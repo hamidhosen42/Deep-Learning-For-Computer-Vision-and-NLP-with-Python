{
 "cells": [
  {
   "cell_type": "markdown",
   "metadata": {},
   "source": [
    "1. Image Translation\n",
    "2. Image Rotate\n",
    "3. Image Resize\n",
    "4. Image Flipping\n",
    "5. Image Croping"
   ]
  },
  {
   "cell_type": "code",
   "execution_count": null,
   "metadata": {
    "execution": {
     "iopub.execute_input": "2023-03-04T14:43:19.094294Z",
     "iopub.status.busy": "2023-03-04T14:43:19.093918Z",
     "iopub.status.idle": "2023-03-04T14:43:19.099976Z",
     "shell.execute_reply": "2023-03-04T14:43:19.098222Z",
     "shell.execute_reply.started": "2023-03-04T14:43:19.094261Z"
    }
   },
   "outputs": [],
   "source": [
    "import numpy as np\n",
    "import cv2\n",
    "import matplotlib.pyplot as plt"
   ]
  },
  {
   "cell_type": "code",
   "execution_count": null,
   "metadata": {
    "execution": {
     "iopub.execute_input": "2023-03-04T14:41:58.789978Z",
     "iopub.status.busy": "2023-03-04T14:41:58.789539Z",
     "iopub.status.idle": "2023-03-04T14:41:58.799548Z",
     "shell.execute_reply": "2023-03-04T14:41:58.798341Z",
     "shell.execute_reply.started": "2023-03-04T14:41:58.789939Z"
    }
   },
   "outputs": [],
   "source": [
    "image_data = cv2.imread(\"../input/catimagedatas/cat.jpg\")"
   ]
  },
  {
   "cell_type": "code",
   "execution_count": null,
   "metadata": {
    "execution": {
     "iopub.execute_input": "2023-03-04T14:43:21.136871Z",
     "iopub.status.busy": "2023-03-04T14:43:21.136434Z",
     "iopub.status.idle": "2023-03-04T14:43:21.143591Z",
     "shell.execute_reply": "2023-03-04T14:43:21.142661Z",
     "shell.execute_reply.started": "2023-03-04T14:43:21.136836Z"
    }
   },
   "outputs": [],
   "source": [
    "def catimageShow(imageTitle, image):\n",
    "    if len(image.shape) == 3:\n",
    "        imageVariable = cv2.cvtColor(image, cv2.COLOR_BGR2RGB)\n",
    "#     if image.shape[2] == 1:\n",
    "#     imageVariable = cv2.cvtColor(image, cv2.COLOR_RGB2GRAY)\n",
    "    plt.figure(figsize=(4, 2))\n",
    "    plt.imshow(imageVariable)\n",
    "    plt.title(imageTitle)\n",
    "    plt.show()"
   ]
  },
  {
   "cell_type": "code",
   "execution_count": null,
   "metadata": {
    "execution": {
     "iopub.execute_input": "2023-03-04T14:43:22.116311Z",
     "iopub.status.busy": "2023-03-04T14:43:22.115752Z",
     "iopub.status.idle": "2023-03-04T14:43:22.312693Z",
     "shell.execute_reply": "2023-03-04T14:43:22.311772Z",
     "shell.execute_reply.started": "2023-03-04T14:43:22.116259Z"
    }
   },
   "outputs": [],
   "source": [
    "catimageShow(\"Cat Image\", image_data)"
   ]
  },
  {
   "cell_type": "code",
   "execution_count": null,
   "metadata": {
    "execution": {
     "iopub.execute_input": "2023-03-04T14:56:21.219848Z",
     "iopub.status.busy": "2023-03-04T14:56:21.219371Z",
     "iopub.status.idle": "2023-03-04T14:56:21.227423Z",
     "shell.execute_reply": "2023-03-04T14:56:21.225135Z",
     "shell.execute_reply.started": "2023-03-04T14:56:21.219804Z"
    }
   },
   "outputs": [],
   "source": [
    "#(1, 0) (0, 1)\n",
    "\n",
    "translationx = 10\n",
    "translationY = 150\n",
    "ModifiedImage = np.float32([[1, 0, translationx], \n",
    "                           [0, 1, translationY]])"
   ]
  },
  {
   "cell_type": "code",
   "execution_count": null,
   "metadata": {
    "execution": {
     "iopub.execute_input": "2023-03-04T14:56:21.699012Z",
     "iopub.status.busy": "2023-03-04T14:56:21.698602Z",
     "iopub.status.idle": "2023-03-04T14:56:21.706810Z",
     "shell.execute_reply": "2023-03-04T14:56:21.705599Z",
     "shell.execute_reply.started": "2023-03-04T14:56:21.698975Z"
    }
   },
   "outputs": [],
   "source": [
    "ModifiedImage"
   ]
  },
  {
   "cell_type": "code",
   "execution_count": null,
   "metadata": {
    "execution": {
     "iopub.execute_input": "2023-03-04T14:56:22.094832Z",
     "iopub.status.busy": "2023-03-04T14:56:22.094138Z",
     "iopub.status.idle": "2023-03-04T14:56:22.101503Z",
     "shell.execute_reply": "2023-03-04T14:56:22.100532Z",
     "shell.execute_reply.started": "2023-03-04T14:56:22.094784Z"
    }
   },
   "outputs": [],
   "source": [
    "imageShift = cv2.warpAffine(image_data, ModifiedImage,\n",
    "                            (image_data.shape[1], image_data.shape[0]))"
   ]
  },
  {
   "cell_type": "code",
   "execution_count": null,
   "metadata": {
    "execution": {
     "iopub.execute_input": "2023-03-04T14:56:22.615301Z",
     "iopub.status.busy": "2023-03-04T14:56:22.614682Z",
     "iopub.status.idle": "2023-03-04T14:56:22.865567Z",
     "shell.execute_reply": "2023-03-04T14:56:22.864692Z",
     "shell.execute_reply.started": "2023-03-04T14:56:22.615261Z"
    }
   },
   "outputs": [],
   "source": [
    "catimageShow(\"Cat Image\", image_data)\n",
    "catimageShow(\"Shifted Image\",imageShift)"
   ]
  },
  {
   "cell_type": "code",
   "execution_count": null,
   "metadata": {
    "execution": {
     "iopub.execute_input": "2023-03-04T15:02:30.052958Z",
     "iopub.status.busy": "2023-03-04T15:02:30.052263Z",
     "iopub.status.idle": "2023-03-04T15:02:30.059922Z",
     "shell.execute_reply": "2023-03-04T15:02:30.058812Z",
     "shell.execute_reply.started": "2023-03-04T15:02:30.052887Z"
    }
   },
   "outputs": [],
   "source": [
    "def imageTranslation(image, translationX, translationY):\n",
    "    modifiedImage = np.float32([[1, 0, translationX], \n",
    "                           [0, 1, translationY]])\n",
    "    \n",
    "    imageShift = cv2.warpAffine(image_data, modifiedImage,\n",
    "                            (image_data.shape[1], image_data.shape[0]))\n",
    "    \n",
    "    catimageShow(\"Cat Image\", image_data)\n",
    "    catimageShow(\"Shifted Image\",imageShift)"
   ]
  },
  {
   "cell_type": "code",
   "execution_count": null,
   "metadata": {
    "execution": {
     "iopub.execute_input": "2023-03-04T15:03:44.375319Z",
     "iopub.status.busy": "2023-03-04T15:03:44.374928Z",
     "iopub.status.idle": "2023-03-04T15:03:44.612548Z",
     "shell.execute_reply": "2023-03-04T15:03:44.611657Z",
     "shell.execute_reply.started": "2023-03-04T15:03:44.375282Z"
    }
   },
   "outputs": [],
   "source": [
    "imageTranslation(image_data, -150, -150)"
   ]
  },
  {
   "cell_type": "code",
   "execution_count": null,
   "metadata": {
    "execution": {
     "iopub.execute_input": "2023-03-04T15:11:01.395119Z",
     "iopub.status.busy": "2023-03-04T15:11:01.393431Z",
     "iopub.status.idle": "2023-03-04T15:11:01.669838Z",
     "shell.execute_reply": "2023-03-04T15:11:01.668804Z",
     "shell.execute_reply.started": "2023-03-04T15:11:01.395047Z"
    }
   },
   "outputs": [],
   "source": [
    "imageCenter = (image_data.shape[1]//2, image_data.shape[0]//2)\n",
    "imageRotate = cv2.getRotationMatrix2D(imageCenter, 45, 1)\n",
    "finalRotate = cv2.warpAffine(image_data, imageRotate,\n",
    "                            (image_data.shape[1], image_data.shape[0]))\n",
    "catimageShow(\"Cat Image\", image_data)\n",
    "catimageShow(\"Shifted Image\",finalRotate)"
   ]
  },
  {
   "cell_type": "code",
   "execution_count": null,
   "metadata": {
    "execution": {
     "iopub.execute_input": "2023-03-04T15:23:39.701204Z",
     "iopub.status.busy": "2023-03-04T15:23:39.700787Z",
     "iopub.status.idle": "2023-03-04T15:23:39.950843Z",
     "shell.execute_reply": "2023-03-04T15:23:39.949565Z",
     "shell.execute_reply.started": "2023-03-04T15:23:39.701167Z"
    }
   },
   "outputs": [],
   "source": [
    "imageCenter = (image_data.shape[1]//2, image_data.shape[0]//2)\n",
    "imageRotate = cv2.getRotationMatrix2D(imageCenter, 180, 1)\n",
    "finalRotate = cv2.warpAffine(image_data, imageRotate,\n",
    "                            (image_data.shape[1], image_data.shape[0]))\n",
    "catimageShow(\"Cat Image\", image_data)\n",
    "catimageShow(\"Shifted Image\",finalRotate)"
   ]
  },
  {
   "cell_type": "code",
   "execution_count": null,
   "metadata": {},
   "outputs": [],
   "source": [
    "def imageRotation():\n",
    "    imageCenter = (image_data.shape[1]//2, image_data.shape[0]//2)\n",
    "    imageRotate = cv2.getRotationMatrix2D(imageCenter, 45, 1)\n",
    "    finalRotate = cv2.warpAffine(image_data, imageRotate,\n",
    "                                (image_data.shape[1], image_data.shape[0]))\n",
    "    catimageShow(\"Cat Image\", image_data)\n",
    "    catimageShow(\"Shifted Image\",finalRotate)"
   ]
  },
  {
   "cell_type": "code",
   "execution_count": null,
   "metadata": {
    "execution": {
     "iopub.execute_input": "2023-03-04T15:22:43.098846Z",
     "iopub.status.busy": "2023-03-04T15:22:43.097418Z",
     "iopub.status.idle": "2023-03-04T15:22:43.337998Z",
     "shell.execute_reply": "2023-03-04T15:22:43.336693Z",
     "shell.execute_reply.started": "2023-03-04T15:22:43.098774Z"
    }
   },
   "outputs": [],
   "source": [
    "imageRotation(image_data,180, 1)"
   ]
  },
  {
   "cell_type": "code",
   "execution_count": null,
   "metadata": {
    "execution": {
     "iopub.execute_input": "2023-03-04T15:13:05.507331Z",
     "iopub.status.busy": "2023-03-04T15:13:05.506882Z",
     "iopub.status.idle": "2023-03-04T15:13:05.515603Z",
     "shell.execute_reply": "2023-03-04T15:13:05.514087Z",
     "shell.execute_reply.started": "2023-03-04T15:13:05.507290Z"
    }
   },
   "outputs": [],
   "source": [
    "image_data.shape"
   ]
  },
  {
   "cell_type": "code",
   "execution_count": null,
   "metadata": {
    "execution": {
     "iopub.execute_input": "2023-03-04T15:17:30.309593Z",
     "iopub.status.busy": "2023-03-04T15:17:30.309176Z",
     "iopub.status.idle": "2023-03-04T15:17:30.318144Z",
     "shell.execute_reply": "2023-03-04T15:17:30.315962Z",
     "shell.execute_reply.started": "2023-03-04T15:17:30.309556Z"
    }
   },
   "outputs": [],
   "source": [
    "def imageResize(image_data, imageSize):\n",
    "    imageResize = cv2.resize(image_data, (imageSize, imageSize), interpolation = cv2.INTER_AREA)\n",
    "    print(\"Before Resize Image Shape is : {}\".format(image_data.shape))\n",
    "    catimageShow(\"Cat Image\", image_data)\n",
    "    print(\"After Resize Image Shape is : {}\".format(imageResize.shape))\n",
    "    catimageShow(\"Resize Image\",imageResize)\n",
    "    "
   ]
  },
  {
   "cell_type": "code",
   "execution_count": null,
   "metadata": {
    "execution": {
     "iopub.execute_input": "2023-03-04T15:17:31.860178Z",
     "iopub.status.busy": "2023-03-04T15:17:31.859766Z",
     "iopub.status.idle": "2023-03-04T15:17:32.152017Z",
     "shell.execute_reply": "2023-03-04T15:17:32.151113Z",
     "shell.execute_reply.started": "2023-03-04T15:17:31.860144Z"
    }
   },
   "outputs": [],
   "source": [
    "imageResize(image_data, 120)"
   ]
  },
  {
   "cell_type": "code",
   "execution_count": null,
   "metadata": {
    "execution": {
     "iopub.execute_input": "2023-03-04T15:21:08.139764Z",
     "iopub.status.busy": "2023-03-04T15:21:08.139313Z",
     "iopub.status.idle": "2023-03-04T15:21:08.145785Z",
     "shell.execute_reply": "2023-03-04T15:21:08.144675Z",
     "shell.execute_reply.started": "2023-03-04T15:21:08.139725Z"
    }
   },
   "outputs": [],
   "source": [
    "def imageFlipping(image_data):\n",
    "    imageResize = cv2.flip(image_data, 0)\n",
    "    print(\"Before Flipping Image\")\n",
    "    catimageShow(\"Cat Image\", image_data)\n",
    "    print(\"After Flipping Image\")\n",
    "    catimageShow(\"Resize Image\",imageResize)\n",
    "    "
   ]
  },
  {
   "cell_type": "code",
   "execution_count": null,
   "metadata": {
    "execution": {
     "iopub.execute_input": "2023-03-04T15:21:08.664070Z",
     "iopub.status.busy": "2023-03-04T15:21:08.663571Z",
     "iopub.status.idle": "2023-03-04T15:21:08.937743Z",
     "shell.execute_reply": "2023-03-04T15:21:08.936697Z",
     "shell.execute_reply.started": "2023-03-04T15:21:08.664020Z"
    }
   },
   "outputs": [],
   "source": [
    "imageFlipping(image_data)"
   ]
  },
  {
   "cell_type": "code",
   "execution_count": null,
   "metadata": {
    "execution": {
     "iopub.execute_input": "2023-03-04T15:25:03.988053Z",
     "iopub.status.busy": "2023-03-04T15:25:03.987568Z",
     "iopub.status.idle": "2023-03-04T15:25:03.994600Z",
     "shell.execute_reply": "2023-03-04T15:25:03.993359Z",
     "shell.execute_reply.started": "2023-03-04T15:25:03.988008Z"
    }
   },
   "outputs": [],
   "source": [
    "def imageCropping(image_data):\n",
    "    imageResize = image_data[100:200, 100:200]\n",
    "    print(\"Before Image Crop\")\n",
    "    catimageShow(\"Cat Image\", image_data)\n",
    "    print(\"After Image Crop\")\n",
    "    catimageShow(\"Resize Image\",imageResize)\n",
    "    "
   ]
  },
  {
   "cell_type": "code",
   "execution_count": null,
   "metadata": {
    "execution": {
     "iopub.execute_input": "2023-03-04T15:25:15.824285Z",
     "iopub.status.busy": "2023-03-04T15:25:15.823848Z",
     "iopub.status.idle": "2023-03-04T15:25:16.112106Z",
     "shell.execute_reply": "2023-03-04T15:25:16.110651Z",
     "shell.execute_reply.started": "2023-03-04T15:25:15.824245Z"
    }
   },
   "outputs": [],
   "source": [
    "imageCropping(image_data)"
   ]
  }
 ],
 "metadata": {
  "kernelspec": {
   "display_name": "Python 3 (ipykernel)",
   "language": "python",
   "name": "python3"
  },
  "language_info": {
   "codemirror_mode": {
    "name": "ipython",
    "version": 3
   },
   "file_extension": ".py",
   "mimetype": "text/x-python",
   "name": "python",
   "nbconvert_exporter": "python",
   "pygments_lexer": "ipython3",
   "version": "3.9.13"
  }
 },
 "nbformat": 4,
 "nbformat_minor": 4
}

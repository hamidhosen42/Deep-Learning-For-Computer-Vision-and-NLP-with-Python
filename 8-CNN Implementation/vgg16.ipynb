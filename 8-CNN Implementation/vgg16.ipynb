{
 "cells": [
  {
   "cell_type": "code",
   "execution_count": 1,
   "id": "f3322bd1",
   "metadata": {
    "execution": {
     "iopub.execute_input": "2022-09-28T10:59:27.031780Z",
     "iopub.status.busy": "2022-09-28T10:59:27.031346Z",
     "iopub.status.idle": "2022-09-28T10:59:32.865581Z",
     "shell.execute_reply": "2022-09-28T10:59:32.864608Z"
    },
    "papermill": {
     "duration": 5.847702,
     "end_time": "2022-09-28T10:59:32.868108",
     "exception": false,
     "start_time": "2022-09-28T10:59:27.020406",
     "status": "completed"
    },
    "tags": []
   },
   "outputs": [],
   "source": [
    "import tqdm\n",
    "import cv2\n",
    "import os\n",
    "\n",
    "import pandas as pd\n",
    "import numpy as np\n",
    "\n",
    "import platform\n",
    "import random\n",
    "import time\n",
    "import imageio\n",
    "\n",
    "import matplotlib.pyplot as plt\n",
    "from tqdm import tqdm\n",
    "import seaborn as sns\n",
    "from IPython.display import clear_output\n",
    "\n",
    "from sklearn.model_selection import StratifiedShuffleSplit\n",
    "\n",
    "from tensorflow.keras.preprocessing.image import ImageDataGenerator, img_to_array, load_img\n",
    "from tensorflow.keras.layers import Dense, Dropout, Activation, Flatten,Conv2D, Add, add,InputLayer, Input, MaxPooling2D,AveragePooling2D, GlobalAveragePooling2D, MaxPool2D, ZeroPadding2D, SeparableConv2D\n",
    "from tensorflow.keras.layers import BatchNormalization\n",
    "from tensorflow.keras.models import Sequential, Model\n",
    "from tensorflow.keras import regularizers\n",
    "from tensorflow.keras.applications import VGG16\n",
    "from tensorflow.keras.layers import concatenate\n",
    "from tensorflow.keras.applications import DenseNet121\n",
    "\n",
    "\n",
    "from tensorflow.keras.callbacks import Callback, ModelCheckpoint, LearningRateScheduler, TensorBoard, EarlyStopping, ReduceLROnPlateau\n",
    "\n",
    "\n",
    "\n",
    "import warnings\n",
    "warnings.filterwarnings(\"ignore\")\n",
    "\n",
    "%matplotlib inline"
   ]
  },
  {
   "cell_type": "code",
   "execution_count": 2,
   "id": "e94564c7",
   "metadata": {
    "execution": {
     "iopub.execute_input": "2022-09-28T10:59:32.887009Z",
     "iopub.status.busy": "2022-09-28T10:59:32.886488Z",
     "iopub.status.idle": "2022-09-28T10:59:32.891044Z",
     "shell.execute_reply": "2022-09-28T10:59:32.889991Z"
    },
    "papermill": {
     "duration": 0.01587,
     "end_time": "2022-09-28T10:59:32.893028",
     "exception": false,
     "start_time": "2022-09-28T10:59:32.877158",
     "status": "completed"
    },
    "tags": []
   },
   "outputs": [],
   "source": [
    "seed = 42\n",
    "random.seed(seed)\n",
    "np.random.seed(seed)"
   ]
  },
  {
   "cell_type": "code",
   "execution_count": 3,
   "id": "fa19e62d",
   "metadata": {
    "execution": {
     "iopub.execute_input": "2022-09-28T10:59:32.912768Z",
     "iopub.status.busy": "2022-09-28T10:59:32.912077Z",
     "iopub.status.idle": "2022-09-28T10:59:32.918370Z",
     "shell.execute_reply": "2022-09-28T10:59:32.916291Z"
    },
    "papermill": {
     "duration": 0.019972,
     "end_time": "2022-09-28T10:59:32.921264",
     "exception": false,
     "start_time": "2022-09-28T10:59:32.901292",
     "status": "completed"
    },
    "tags": []
   },
   "outputs": [
    {
     "name": "stdout",
     "output_type": "stream",
     "text": [
      "Working Platform is : Linux-5.15.65+-x86_64-with-debian-bullseye-sid\n"
     ]
    }
   ],
   "source": [
    "print(\"Working Platform is :\", platform.platform())"
   ]
  },
  {
   "cell_type": "code",
   "execution_count": 4,
   "id": "1b689019",
   "metadata": {
    "execution": {
     "iopub.execute_input": "2022-09-28T10:59:32.939663Z",
     "iopub.status.busy": "2022-09-28T10:59:32.938789Z",
     "iopub.status.idle": "2022-09-28T10:59:34.004525Z",
     "shell.execute_reply": "2022-09-28T10:59:34.003358Z"
    },
    "papermill": {
     "duration": 1.077705,
     "end_time": "2022-09-28T10:59:34.007255",
     "exception": false,
     "start_time": "2022-09-28T10:59:32.929550",
     "status": "completed"
    },
    "tags": []
   },
   "outputs": [
    {
     "name": "stdout",
     "output_type": "stream",
     "text": [
      "Wed Sep 28 10:59:33 2022       \r\n",
      "+-----------------------------------------------------------------------------+\r\n",
      "| NVIDIA-SMI 470.82.01    Driver Version: 470.82.01    CUDA Version: 11.4     |\r\n",
      "|-------------------------------+----------------------+----------------------+\r\n",
      "| GPU  Name        Persistence-M| Bus-Id        Disp.A | Volatile Uncorr. ECC |\r\n",
      "| Fan  Temp  Perf  Pwr:Usage/Cap|         Memory-Usage | GPU-Util  Compute M. |\r\n",
      "|                               |                      |               MIG M. |\r\n",
      "|===============================+======================+======================|\r\n",
      "|   0  Tesla P100-PCIE...  Off  | 00000000:00:04.0 Off |                    0 |\r\n",
      "| N/A   38C    P0    26W / 250W |      0MiB / 16280MiB |      0%      Default |\r\n",
      "|                               |                      |                  N/A |\r\n",
      "+-------------------------------+----------------------+----------------------+\r\n",
      "                                                                               \r\n",
      "+-----------------------------------------------------------------------------+\r\n",
      "| Processes:                                                                  |\r\n",
      "|  GPU   GI   CI        PID   Type   Process name                  GPU Memory |\r\n",
      "|        ID   ID                                                   Usage      |\r\n",
      "|=============================================================================|\r\n",
      "|  No running processes found                                                 |\r\n",
      "+-----------------------------------------------------------------------------+\r\n"
     ]
    }
   ],
   "source": [
    "!nvidia-smi"
   ]
  },
  {
   "cell_type": "code",
   "execution_count": 5,
   "id": "f0ad8dff",
   "metadata": {
    "execution": {
     "iopub.execute_input": "2022-09-28T10:59:34.033682Z",
     "iopub.status.busy": "2022-09-28T10:59:34.033301Z",
     "iopub.status.idle": "2022-09-28T10:59:34.038616Z",
     "shell.execute_reply": "2022-09-28T10:59:34.037674Z"
    },
    "papermill": {
     "duration": 0.020741,
     "end_time": "2022-09-28T10:59:34.040566",
     "exception": false,
     "start_time": "2022-09-28T10:59:34.019825",
     "status": "completed"
    },
    "tags": []
   },
   "outputs": [],
   "source": [
    "imagePath = '../input/skincancer/Datasets/Train/JPG/'\n",
    "train_imagePath = '../input/skincancer/Datasets/Train/JPG/'\n",
    "test_imagePath = '../input/skincancer/Datasets/Test/JPG/'"
   ]
  },
  {
   "cell_type": "code",
   "execution_count": 6,
   "id": "3f340257",
   "metadata": {
    "execution": {
     "iopub.execute_input": "2022-09-28T10:59:34.066527Z",
     "iopub.status.busy": "2022-09-28T10:59:34.066203Z",
     "iopub.status.idle": "2022-09-28T10:59:34.169081Z",
     "shell.execute_reply": "2022-09-28T10:59:34.168180Z"
    },
    "papermill": {
     "duration": 0.118237,
     "end_time": "2022-09-28T10:59:34.171477",
     "exception": false,
     "start_time": "2022-09-28T10:59:34.053240",
     "status": "completed"
    },
    "tags": []
   },
   "outputs": [],
   "source": [
    "train_dataframe = pd.read_csv(\"../input/skincancer/Datasets/ISIC_2020_Training_GroundTruth.csv\")"
   ]
  },
  {
   "cell_type": "code",
   "execution_count": 7,
   "id": "a5fc7563",
   "metadata": {
    "execution": {
     "iopub.execute_input": "2022-09-28T10:59:34.191422Z",
     "iopub.status.busy": "2022-09-28T10:59:34.189828Z",
     "iopub.status.idle": "2022-09-28T10:59:34.200300Z",
     "shell.execute_reply": "2022-09-28T10:59:34.199285Z"
    },
    "papermill": {
     "duration": 0.02234,
     "end_time": "2022-09-28T10:59:34.202397",
     "exception": false,
     "start_time": "2022-09-28T10:59:34.180057",
     "status": "completed"
    },
    "tags": []
   },
   "outputs": [
    {
     "data": {
      "text/plain": [
       "33126"
      ]
     },
     "execution_count": 7,
     "metadata": {},
     "output_type": "execute_result"
    }
   ],
   "source": [
    "len(train_dataframe)"
   ]
  },
  {
   "cell_type": "code",
   "execution_count": 8,
   "id": "43351668",
   "metadata": {
    "execution": {
     "iopub.execute_input": "2022-09-28T10:59:34.220907Z",
     "iopub.status.busy": "2022-09-28T10:59:34.220655Z",
     "iopub.status.idle": "2022-09-28T10:59:34.239602Z",
     "shell.execute_reply": "2022-09-28T10:59:34.238609Z"
    },
    "papermill": {
     "duration": 0.030905,
     "end_time": "2022-09-28T10:59:34.241682",
     "exception": false,
     "start_time": "2022-09-28T10:59:34.210777",
     "status": "completed"
    },
    "tags": []
   },
   "outputs": [
    {
     "data": {
      "text/html": [
       "<div>\n",
       "<style scoped>\n",
       "    .dataframe tbody tr th:only-of-type {\n",
       "        vertical-align: middle;\n",
       "    }\n",
       "\n",
       "    .dataframe tbody tr th {\n",
       "        vertical-align: top;\n",
       "    }\n",
       "\n",
       "    .dataframe thead th {\n",
       "        text-align: right;\n",
       "    }\n",
       "</style>\n",
       "<table border=\"1\" class=\"dataframe\">\n",
       "  <thead>\n",
       "    <tr style=\"text-align: right;\">\n",
       "      <th></th>\n",
       "      <th>image_name</th>\n",
       "      <th>patient_id</th>\n",
       "      <th>sex</th>\n",
       "      <th>age_approx</th>\n",
       "      <th>anatom_site_general_challenge</th>\n",
       "      <th>diagnosis</th>\n",
       "      <th>benign_malignant</th>\n",
       "      <th>target</th>\n",
       "    </tr>\n",
       "  </thead>\n",
       "  <tbody>\n",
       "    <tr>\n",
       "      <th>0</th>\n",
       "      <td>ISIC_2637011</td>\n",
       "      <td>IP_7279968</td>\n",
       "      <td>male</td>\n",
       "      <td>45.0</td>\n",
       "      <td>head/neck</td>\n",
       "      <td>unknown</td>\n",
       "      <td>benign</td>\n",
       "      <td>0</td>\n",
       "    </tr>\n",
       "    <tr>\n",
       "      <th>1</th>\n",
       "      <td>ISIC_0015719</td>\n",
       "      <td>IP_3075186</td>\n",
       "      <td>female</td>\n",
       "      <td>45.0</td>\n",
       "      <td>upper extremity</td>\n",
       "      <td>unknown</td>\n",
       "      <td>benign</td>\n",
       "      <td>0</td>\n",
       "    </tr>\n",
       "    <tr>\n",
       "      <th>2</th>\n",
       "      <td>ISIC_0052212</td>\n",
       "      <td>IP_2842074</td>\n",
       "      <td>female</td>\n",
       "      <td>50.0</td>\n",
       "      <td>lower extremity</td>\n",
       "      <td>nevus</td>\n",
       "      <td>benign</td>\n",
       "      <td>0</td>\n",
       "    </tr>\n",
       "    <tr>\n",
       "      <th>3</th>\n",
       "      <td>ISIC_0068279</td>\n",
       "      <td>IP_6890425</td>\n",
       "      <td>female</td>\n",
       "      <td>45.0</td>\n",
       "      <td>head/neck</td>\n",
       "      <td>unknown</td>\n",
       "      <td>benign</td>\n",
       "      <td>0</td>\n",
       "    </tr>\n",
       "    <tr>\n",
       "      <th>4</th>\n",
       "      <td>ISIC_0074268</td>\n",
       "      <td>IP_8723313</td>\n",
       "      <td>female</td>\n",
       "      <td>55.0</td>\n",
       "      <td>upper extremity</td>\n",
       "      <td>unknown</td>\n",
       "      <td>benign</td>\n",
       "      <td>0</td>\n",
       "    </tr>\n",
       "  </tbody>\n",
       "</table>\n",
       "</div>"
      ],
      "text/plain": [
       "     image_name  patient_id     sex  age_approx anatom_site_general_challenge  \\\n",
       "0  ISIC_2637011  IP_7279968    male        45.0                     head/neck   \n",
       "1  ISIC_0015719  IP_3075186  female        45.0               upper extremity   \n",
       "2  ISIC_0052212  IP_2842074  female        50.0               lower extremity   \n",
       "3  ISIC_0068279  IP_6890425  female        45.0                     head/neck   \n",
       "4  ISIC_0074268  IP_8723313  female        55.0               upper extremity   \n",
       "\n",
       "  diagnosis benign_malignant  target  \n",
       "0   unknown           benign       0  \n",
       "1   unknown           benign       0  \n",
       "2     nevus           benign       0  \n",
       "3   unknown           benign       0  \n",
       "4   unknown           benign       0  "
      ]
     },
     "execution_count": 8,
     "metadata": {},
     "output_type": "execute_result"
    }
   ],
   "source": [
    "train_dataframe.head()"
   ]
  },
  {
   "cell_type": "code",
   "execution_count": 9,
   "id": "6a8e1bea",
   "metadata": {
    "execution": {
     "iopub.execute_input": "2022-09-28T10:59:34.260579Z",
     "iopub.status.busy": "2022-09-28T10:59:34.259736Z",
     "iopub.status.idle": "2022-09-28T10:59:34.266113Z",
     "shell.execute_reply": "2022-09-28T10:59:34.265173Z"
    },
    "papermill": {
     "duration": 0.017731,
     "end_time": "2022-09-28T10:59:34.268060",
     "exception": false,
     "start_time": "2022-09-28T10:59:34.250329",
     "status": "completed"
    },
    "tags": []
   },
   "outputs": [
    {
     "data": {
      "text/plain": [
       "Index(['image_name', 'patient_id', 'sex', 'age_approx',\n",
       "       'anatom_site_general_challenge', 'diagnosis', 'benign_malignant',\n",
       "       'target'],\n",
       "      dtype='object')"
      ]
     },
     "execution_count": 9,
     "metadata": {},
     "output_type": "execute_result"
    }
   ],
   "source": [
    "train_dataframe.columns"
   ]
  },
  {
   "cell_type": "code",
   "execution_count": 10,
   "id": "794c549a",
   "metadata": {
    "execution": {
     "iopub.execute_input": "2022-09-28T10:59:34.286646Z",
     "iopub.status.busy": "2022-09-28T10:59:34.286166Z",
     "iopub.status.idle": "2022-09-28T10:59:34.293498Z",
     "shell.execute_reply": "2022-09-28T10:59:34.292624Z"
    },
    "papermill": {
     "duration": 0.018649,
     "end_time": "2022-09-28T10:59:34.295386",
     "exception": false,
     "start_time": "2022-09-28T10:59:34.276737",
     "status": "completed"
    },
    "tags": []
   },
   "outputs": [
    {
     "data": {
      "text/plain": [
       "'../input/skincancer/Datasets/Train/JPG/ISIC_2637011.jpg'"
      ]
     },
     "execution_count": 10,
     "metadata": {},
     "output_type": "execute_result"
    }
   ],
   "source": [
    "os.path.join(imagePath, train_dataframe['image_name'][0]+\".jpg\")"
   ]
  },
  {
   "cell_type": "code",
   "execution_count": 11,
   "id": "04d310a7",
   "metadata": {
    "execution": {
     "iopub.execute_input": "2022-09-28T10:59:34.314554Z",
     "iopub.status.busy": "2022-09-28T10:59:34.313734Z",
     "iopub.status.idle": "2022-09-28T10:59:34.913831Z",
     "shell.execute_reply": "2022-09-28T10:59:34.912695Z"
    },
    "papermill": {
     "duration": 0.61266,
     "end_time": "2022-09-28T10:59:34.916786",
     "exception": false,
     "start_time": "2022-09-28T10:59:34.304126",
     "status": "completed"
    },
    "tags": []
   },
   "outputs": [
    {
     "data": {
      "image/png": "[encoded data removed]",
      "text/plain": [
       "<Figure size 432x288 with 1 Axes>"
      ]
     },
     "metadata": {
      "needs_background": "light"
     },
     "output_type": "display_data"
    }
   ],
   "source": [
    "\n",
    "\n",
    "img = cv2.imread(os.path.join(os.path.join(imagePath, train_dataframe['image_name'][0]+\".jpg\")))\n",
    "img = cv2.resize(img, (512, 512))\n",
    "plt.title(\"This is image Gender is {} and Class is {}\".format(train_dataframe['sex'][0], train_dataframe['target'][0]))\n",
    "plt.imshow(img)\n",
    "plt.show()"
   ]
  },
  {
   "cell_type": "code",
   "execution_count": 12,
   "id": "e5eac35f",
   "metadata": {
    "execution": {
     "iopub.execute_input": "2022-09-28T10:59:34.938778Z",
     "iopub.status.busy": "2022-09-28T10:59:34.938488Z",
     "iopub.status.idle": "2022-09-28T10:59:35.323459Z",
     "shell.execute_reply": "2022-09-28T10:59:35.322493Z"
    },
    "papermill": {
     "duration": 0.398657,
     "end_time": "2022-09-28T10:59:35.325966",
     "exception": false,
     "start_time": "2022-09-28T10:59:34.927309",
     "status": "completed"
    },
    "tags": []
   },
   "outputs": [],
   "source": [
    "benign = []\n",
    "malignant = []\n",
    "\n",
    "for i in range(len(train_dataframe)):\n",
    "    if train_dataframe['target'][i] == 0:\n",
    "        benign.append(train_dataframe['image_name'][i]+'.jpg')\n",
    "    else:\n",
    "        malignant.append(train_dataframe['image_name'][i]+'.jpg')"
   ]
  },
  {
   "cell_type": "code",
   "execution_count": 13,
   "id": "a96bb3d8",
   "metadata": {
    "execution": {
     "iopub.execute_input": "2022-09-28T10:59:35.348059Z",
     "iopub.status.busy": "2022-09-28T10:59:35.347744Z",
     "iopub.status.idle": "2022-09-28T10:59:35.353281Z",
     "shell.execute_reply": "2022-09-28T10:59:35.352293Z"
    },
    "papermill": {
     "duration": 0.019413,
     "end_time": "2022-09-28T10:59:35.355819",
     "exception": false,
     "start_time": "2022-09-28T10:59:35.336406",
     "status": "completed"
    },
    "tags": []
   },
   "outputs": [
    {
     "name": "stdout",
     "output_type": "stream",
     "text": [
      "Length of Benign Datasets is :  32542\n",
      "Length of Malignant Datasets is :  584\n"
     ]
    }
   ],
   "source": [
    "print(\"Length of Benign Datasets is : \",len(benign))\n",
    "print(\"Length of Malignant Datasets is : \",len(malignant))"
   ]
  },
  {
   "cell_type": "code",
   "execution_count": 14,
   "id": "7984aa06",
   "metadata": {
    "execution": {
     "iopub.execute_input": "2022-09-28T10:59:35.379173Z",
     "iopub.status.busy": "2022-09-28T10:59:35.378376Z",
     "iopub.status.idle": "2022-09-28T10:59:35.383095Z",
     "shell.execute_reply": "2022-09-28T10:59:35.382139Z"
    },
    "papermill": {
     "duration": 0.017853,
     "end_time": "2022-09-28T10:59:35.384992",
     "exception": false,
     "start_time": "2022-09-28T10:59:35.367139",
     "status": "completed"
    },
    "tags": []
   },
   "outputs": [],
   "source": [
    "train_image_data = train_imagePath\n",
    "test_image_data  = test_imagePath"
   ]
  },
  {
   "cell_type": "code",
   "execution_count": 15,
   "id": "fb478b6e",
   "metadata": {
    "execution": {
     "iopub.execute_input": "2022-09-28T10:59:35.406946Z",
     "iopub.status.busy": "2022-09-28T10:59:35.406685Z",
     "iopub.status.idle": "2022-09-28T10:59:35.410694Z",
     "shell.execute_reply": "2022-09-28T10:59:35.409781Z"
    },
    "papermill": {
     "duration": 0.01752,
     "end_time": "2022-09-28T10:59:35.412686",
     "exception": false,
     "start_time": "2022-09-28T10:59:35.395166",
     "status": "completed"
    },
    "tags": []
   },
   "outputs": [],
   "source": [
    "# image_map = []\n",
    "# def prepareData(Dir):\n",
    "#     for img in tqdm(os.listdir(Dir)):\n",
    "#         image_Path = img\n",
    "#         if image_Path in benign:\n",
    "#             image_map.append({\"Path\":os.path.join(Dir, image_Path), \n",
    "#                          \"label\":\"Benign\"})\n",
    "#         else:\n",
    "#             image_map.append({\"Path\":os.path.join(Dir, image_Path), \n",
    "#                          \"label\":\"Malignant\"})"
   ]
  },
  {
   "cell_type": "code",
   "execution_count": 16,
   "id": "5f530369",
   "metadata": {
    "execution": {
     "iopub.execute_input": "2022-09-28T10:59:35.434698Z",
     "iopub.status.busy": "2022-09-28T10:59:35.433674Z",
     "iopub.status.idle": "2022-09-28T10:59:35.439706Z",
     "shell.execute_reply": "2022-09-28T10:59:35.438701Z"
    },
    "papermill": {
     "duration": 0.018842,
     "end_time": "2022-09-28T10:59:35.441582",
     "exception": false,
     "start_time": "2022-09-28T10:59:35.422740",
     "status": "completed"
    },
    "tags": []
   },
   "outputs": [],
   "source": [
    "image_map = []\n",
    "def prepareData(Dir):\n",
    "    for img in tqdm(os.listdir(Dir)):\n",
    "        image_Path = img\n",
    "        if image_Path in benign:\n",
    "            image_map.append({\"Path\":os.path.join(Dir, image_Path), \n",
    "                         \"label\":str(0)})\n",
    "        else:\n",
    "            image_map.append({\"Path\":os.path.join(Dir, image_Path), \n",
    "                         \"label\":str(1)})"
   ]
  },
  {
   "cell_type": "code",
   "execution_count": 17,
   "id": "fb2b2bcd",
   "metadata": {
    "execution": {
     "iopub.execute_input": "2022-09-28T10:59:35.463382Z",
     "iopub.status.busy": "2022-09-28T10:59:35.462634Z",
     "iopub.status.idle": "2022-09-28T10:59:43.902748Z",
     "shell.execute_reply": "2022-09-28T10:59:43.901692Z"
    },
    "papermill": {
     "duration": 8.453503,
     "end_time": "2022-09-28T10:59:43.905188",
     "exception": false,
     "start_time": "2022-09-28T10:59:35.451685",
     "status": "completed"
    },
    "tags": []
   },
   "outputs": [
    {
     "name": "stderr",
     "output_type": "stream",
     "text": [
      "100%|██████████| 33126/33126 [00:07<00:00, 4152.44it/s]\n"
     ]
    }
   ],
   "source": [
    "prepareData(train_imagePath)"
   ]
  },
  {
   "cell_type": "code",
   "execution_count": 18,
   "id": "dec05028",
   "metadata": {
    "execution": {
     "iopub.execute_input": "2022-09-28T10:59:43.936942Z",
     "iopub.status.busy": "2022-09-28T10:59:43.935464Z",
     "iopub.status.idle": "2022-09-28T10:59:49.782090Z",
     "shell.execute_reply": "2022-09-28T10:59:49.781008Z"
    },
    "papermill": {
     "duration": 5.865275,
     "end_time": "2022-09-28T10:59:49.785709",
     "exception": false,
     "start_time": "2022-09-28T10:59:43.920434",
     "status": "completed"
    },
    "tags": []
   },
   "outputs": [
    {
     "name": "stderr",
     "output_type": "stream",
     "text": [
      "100%|██████████| 10982/10982 [00:05<00:00, 2020.36it/s]\n"
     ]
    }
   ],
   "source": [
    "prepareData(test_imagePath)"
   ]
  },
  {
   "cell_type": "code",
   "execution_count": 19,
   "id": "664b357b",
   "metadata": {
    "execution": {
     "iopub.execute_input": "2022-09-28T10:59:49.821669Z",
     "iopub.status.busy": "2022-09-28T10:59:49.821384Z",
     "iopub.status.idle": "2022-09-28T10:59:49.864261Z",
     "shell.execute_reply": "2022-09-28T10:59:49.863381Z"
    },
    "papermill": {
     "duration": 0.06375,
     "end_time": "2022-09-28T10:59:49.866618",
     "exception": false,
     "start_time": "2022-09-28T10:59:49.802868",
     "status": "completed"
    },
    "tags": []
   },
   "outputs": [],
   "source": [
    "image_map = pd.DataFrame(image_map).sample(frac = 1, random_state = seed)"
   ]
  },
  {
   "cell_type": "code",
   "execution_count": 20,
   "id": "b76b9df0",
   "metadata": {
    "execution": {
     "iopub.execute_input": "2022-09-28T10:59:49.902191Z",
     "iopub.status.busy": "2022-09-28T10:59:49.901256Z",
     "iopub.status.idle": "2022-09-28T10:59:49.910890Z",
     "shell.execute_reply": "2022-09-28T10:59:49.909815Z"
    },
    "papermill": {
     "duration": 0.02954,
     "end_time": "2022-09-28T10:59:49.912992",
     "exception": false,
     "start_time": "2022-09-28T10:59:49.883452",
     "status": "completed"
    },
    "tags": []
   },
   "outputs": [
    {
     "data": {
      "text/html": [
       "<div>\n",
       "<style scoped>\n",
       "    .dataframe tbody tr th:only-of-type {\n",
       "        vertical-align: middle;\n",
       "    }\n",
       "\n",
       "    .dataframe tbody tr th {\n",
       "        vertical-align: top;\n",
       "    }\n",
       "\n",
       "    .dataframe thead th {\n",
       "        text-align: right;\n",
       "    }\n",
       "</style>\n",
       "<table border=\"1\" class=\"dataframe\">\n",
       "  <thead>\n",
       "    <tr style=\"text-align: right;\">\n",
       "      <th></th>\n",
       "      <th>Path</th>\n",
       "      <th>label</th>\n",
       "    </tr>\n",
       "  </thead>\n",
       "  <tbody>\n",
       "    <tr>\n",
       "      <th>37886</th>\n",
       "      <td>../input/skincancer/Datasets/Test/JPG/ISIC_543...</td>\n",
       "      <td>1</td>\n",
       "    </tr>\n",
       "    <tr>\n",
       "      <th>4128</th>\n",
       "      <td>../input/skincancer/Datasets/Train/JPG/ISIC_16...</td>\n",
       "      <td>0</td>\n",
       "    </tr>\n",
       "    <tr>\n",
       "      <th>3031</th>\n",
       "      <td>../input/skincancer/Datasets/Train/JPG/ISIC_50...</td>\n",
       "      <td>1</td>\n",
       "    </tr>\n",
       "    <tr>\n",
       "      <th>38068</th>\n",
       "      <td>../input/skincancer/Datasets/Test/JPG/ISIC_387...</td>\n",
       "      <td>1</td>\n",
       "    </tr>\n",
       "    <tr>\n",
       "      <th>25695</th>\n",
       "      <td>../input/skincancer/Datasets/Train/JPG/ISIC_47...</td>\n",
       "      <td>0</td>\n",
       "    </tr>\n",
       "  </tbody>\n",
       "</table>\n",
       "</div>"
      ],
      "text/plain": [
       "                                                    Path label\n",
       "37886  ../input/skincancer/Datasets/Test/JPG/ISIC_543...     1\n",
       "4128   ../input/skincancer/Datasets/Train/JPG/ISIC_16...     0\n",
       "3031   ../input/skincancer/Datasets/Train/JPG/ISIC_50...     1\n",
       "38068  ../input/skincancer/Datasets/Test/JPG/ISIC_387...     1\n",
       "25695  ../input/skincancer/Datasets/Train/JPG/ISIC_47...     0"
      ]
     },
     "execution_count": 20,
     "metadata": {},
     "output_type": "execute_result"
    }
   ],
   "source": [
    "image_map.head()"
   ]
  },
  {
   "cell_type": "code",
   "execution_count": 21,
   "id": "1f9a8f0f",
   "metadata": {
    "execution": {
     "iopub.execute_input": "2022-09-28T10:59:49.948214Z",
     "iopub.status.busy": "2022-09-28T10:59:49.947926Z",
     "iopub.status.idle": "2022-09-28T10:59:49.954702Z",
     "shell.execute_reply": "2022-09-28T10:59:49.953712Z"
    },
    "papermill": {
     "duration": 0.026531,
     "end_time": "2022-09-28T10:59:49.956585",
     "exception": false,
     "start_time": "2022-09-28T10:59:49.930054",
     "status": "completed"
    },
    "tags": []
   },
   "outputs": [],
   "source": [
    "def printImages(samples):\n",
    "    image = samples[\"Path\"].to_numpy()\n",
    "    labels = samples[\"label\"].to_numpy()\n",
    "    \n",
    "    fig = plt.figure(figsize=(20, 8))\n",
    "    columns = 4\n",
    "    rows = 1\n",
    "    \n",
    "    for i, imagePaths in enumerate(image):\n",
    "        image = cv2.imread(imagePaths, cv2.IMREAD_COLOR)\n",
    "        \n",
    "        fig.add_subplot(rows, columns, i+1)\n",
    "        title = \"{}\".format(labels[i])\n",
    "        \n",
    "        sample_image = cv2.resize(image, (224, 224), interpolation = cv2.INTER_CUBIC)\n",
    "        plt.imshow(sample_image, cmap = \"gray\")\n",
    "        plt.title(title)\n",
    "        \n",
    "    plt.show()"
   ]
  },
  {
   "cell_type": "code",
   "execution_count": 22,
   "id": "78ab66dc",
   "metadata": {
    "execution": {
     "iopub.execute_input": "2022-09-28T10:59:49.991991Z",
     "iopub.status.busy": "2022-09-28T10:59:49.991118Z",
     "iopub.status.idle": "2022-09-28T10:59:50.003712Z",
     "shell.execute_reply": "2022-09-28T10:59:50.002761Z"
    },
    "papermill": {
     "duration": 0.032181,
     "end_time": "2022-09-28T10:59:50.005602",
     "exception": false,
     "start_time": "2022-09-28T10:59:49.973421",
     "status": "completed"
    },
    "tags": []
   },
   "outputs": [
    {
     "data": {
      "text/plain": [
       "<Figure size 1440x576 with 0 Axes>"
      ]
     },
     "metadata": {},
     "output_type": "display_data"
    }
   ],
   "source": [
    "printImages(image_map[image_map[\"label\"]==0].iloc[0:4])\n",
    "plt.show()"
   ]
  },
  {
   "cell_type": "code",
   "execution_count": 23,
   "id": "ec9e9cd5",
   "metadata": {
    "execution": {
     "iopub.execute_input": "2022-09-28T10:59:50.041479Z",
     "iopub.status.busy": "2022-09-28T10:59:50.040636Z",
     "iopub.status.idle": "2022-09-28T10:59:50.052739Z",
     "shell.execute_reply": "2022-09-28T10:59:50.051742Z"
    },
    "papermill": {
     "duration": 0.032179,
     "end_time": "2022-09-28T10:59:50.054890",
     "exception": false,
     "start_time": "2022-09-28T10:59:50.022711",
     "status": "completed"
    },
    "tags": []
   },
   "outputs": [
    {
     "data": {
      "text/plain": [
       "<Figure size 1440x576 with 0 Axes>"
      ]
     },
     "metadata": {},
     "output_type": "display_data"
    }
   ],
   "source": [
    "printImages(image_map[image_map[\"label\"]==1].iloc[0:4])\n",
    "plt.show()"
   ]
  },
  {
   "cell_type": "code",
   "execution_count": 24,
   "id": "0c95de06",
   "metadata": {
    "execution": {
     "iopub.execute_input": "2022-09-28T10:59:50.091767Z",
     "iopub.status.busy": "2022-09-28T10:59:50.091006Z",
     "iopub.status.idle": "2022-09-28T10:59:50.095760Z",
     "shell.execute_reply": "2022-09-28T10:59:50.094948Z"
    },
    "papermill": {
     "duration": 0.02494,
     "end_time": "2022-09-28T10:59:50.097876",
     "exception": false,
     "start_time": "2022-09-28T10:59:50.072936",
     "status": "completed"
    },
    "tags": []
   },
   "outputs": [],
   "source": [
    "def getLabelsCount(frame):\n",
    "    label_count = frame['label'].value_counts()\n",
    "    return label_count"
   ]
  },
  {
   "cell_type": "code",
   "execution_count": 25,
   "id": "0fc4e9c3",
   "metadata": {
    "execution": {
     "iopub.execute_input": "2022-09-28T10:59:50.134638Z",
     "iopub.status.busy": "2022-09-28T10:59:50.133740Z",
     "iopub.status.idle": "2022-09-28T10:59:50.148177Z",
     "shell.execute_reply": "2022-09-28T10:59:50.147177Z"
    },
    "papermill": {
     "duration": 0.03459,
     "end_time": "2022-09-28T10:59:50.150197",
     "exception": false,
     "start_time": "2022-09-28T10:59:50.115607",
     "status": "completed"
    },
    "tags": []
   },
   "outputs": [
    {
     "data": {
      "text/plain": [
       "0    32542\n",
       "1    11566\n",
       "Name: label, dtype: int64"
      ]
     },
     "execution_count": 25,
     "metadata": {},
     "output_type": "execute_result"
    }
   ],
   "source": [
    "getLabelsCount(image_map)"
   ]
  },
  {
   "cell_type": "code",
   "execution_count": 26,
   "id": "209e9759",
   "metadata": {
    "execution": {
     "iopub.execute_input": "2022-09-28T10:59:50.187454Z",
     "iopub.status.busy": "2022-09-28T10:59:50.186668Z",
     "iopub.status.idle": "2022-09-28T10:59:50.191683Z",
     "shell.execute_reply": "2022-09-28T10:59:50.190849Z"
    },
    "papermill": {
     "duration": 0.025376,
     "end_time": "2022-09-28T10:59:50.193684",
     "exception": false,
     "start_time": "2022-09-28T10:59:50.168308",
     "status": "completed"
    },
    "tags": []
   },
   "outputs": [],
   "source": [
    "features = image_map[\"Path\"].to_numpy()\n",
    "labels = image_map[\"label\"].to_numpy()"
   ]
  },
  {
   "cell_type": "code",
   "execution_count": 27,
   "id": "c29a37b5",
   "metadata": {
    "execution": {
     "iopub.execute_input": "2022-09-28T10:59:50.230299Z",
     "iopub.status.busy": "2022-09-28T10:59:50.229550Z",
     "iopub.status.idle": "2022-09-28T10:59:50.234262Z",
     "shell.execute_reply": "2022-09-28T10:59:50.233333Z"
    },
    "papermill": {
     "duration": 0.025099,
     "end_time": "2022-09-28T10:59:50.236390",
     "exception": false,
     "start_time": "2022-09-28T10:59:50.211291",
     "status": "completed"
    },
    "tags": []
   },
   "outputs": [],
   "source": [
    "stratified_samples = StratifiedShuffleSplit(n_splits = 2, test_size = 0.2, random_state = 42)"
   ]
  },
  {
   "cell_type": "code",
   "execution_count": 28,
   "id": "220a2709",
   "metadata": {
    "execution": {
     "iopub.execute_input": "2022-09-28T10:59:50.271811Z",
     "iopub.status.busy": "2022-09-28T10:59:50.271559Z",
     "iopub.status.idle": "2022-09-28T10:59:50.329820Z",
     "shell.execute_reply": "2022-09-28T10:59:50.328977Z"
    },
    "papermill": {
     "duration": 0.078616,
     "end_time": "2022-09-28T10:59:50.332024",
     "exception": false,
     "start_time": "2022-09-28T10:59:50.253408",
     "status": "completed"
    },
    "tags": []
   },
   "outputs": [],
   "source": [
    "for train_index, test_index in stratified_samples.split(features, labels):\n",
    "    X_train, X_test = features[train_index], labels[test_index]\n",
    "    Y_train, Y_test = labels[train_index], features[test_index]"
   ]
  },
  {
   "cell_type": "code",
   "execution_count": 29,
   "id": "560cec47",
   "metadata": {
    "execution": {
     "iopub.execute_input": "2022-09-28T10:59:50.368329Z",
     "iopub.status.busy": "2022-09-28T10:59:50.367457Z",
     "iopub.status.idle": "2022-09-28T10:59:50.372190Z",
     "shell.execute_reply": "2022-09-28T10:59:50.371113Z"
    },
    "papermill": {
     "duration": 0.024785,
     "end_time": "2022-09-28T10:59:50.374241",
     "exception": false,
     "start_time": "2022-09-28T10:59:50.349456",
     "status": "completed"
    },
    "tags": []
   },
   "outputs": [],
   "source": [
    "half_size = len(X_test)//2"
   ]
  },
  {
   "cell_type": "code",
   "execution_count": 30,
   "id": "83eb4220",
   "metadata": {
    "execution": {
     "iopub.execute_input": "2022-09-28T10:59:50.409896Z",
     "iopub.status.busy": "2022-09-28T10:59:50.409640Z",
     "iopub.status.idle": "2022-09-28T10:59:50.414086Z",
     "shell.execute_reply": "2022-09-28T10:59:50.413122Z"
    },
    "papermill": {
     "duration": 0.024617,
     "end_time": "2022-09-28T10:59:50.416023",
     "exception": false,
     "start_time": "2022-09-28T10:59:50.391406",
     "status": "completed"
    },
    "tags": []
   },
   "outputs": [],
   "source": [
    "x_test, y_test = X_test[0:half_size], Y_test[0:half_size]\n",
    "X_val, Y_val =  X_test[half_size:], Y_test[half_size:]"
   ]
  },
  {
   "cell_type": "code",
   "execution_count": 31,
   "id": "82343a79",
   "metadata": {
    "execution": {
     "iopub.execute_input": "2022-09-28T10:59:50.452488Z",
     "iopub.status.busy": "2022-09-28T10:59:50.451636Z",
     "iopub.status.idle": "2022-09-28T10:59:50.461900Z",
     "shell.execute_reply": "2022-09-28T10:59:50.461090Z"
    },
    "papermill": {
     "duration": 0.030482,
     "end_time": "2022-09-28T10:59:50.463785",
     "exception": false,
     "start_time": "2022-09-28T10:59:50.433303",
     "status": "completed"
    },
    "tags": []
   },
   "outputs": [],
   "source": [
    "train_map = pd.DataFrame()\n",
    "train_map[\"Path\"] = X_train\n",
    "train_map[\"label\"] = Y_train"
   ]
  },
  {
   "cell_type": "code",
   "execution_count": 32,
   "id": "ec50b73c",
   "metadata": {
    "execution": {
     "iopub.execute_input": "2022-09-28T10:59:50.499881Z",
     "iopub.status.busy": "2022-09-28T10:59:50.498998Z",
     "iopub.status.idle": "2022-09-28T10:59:50.505220Z",
     "shell.execute_reply": "2022-09-28T10:59:50.504230Z"
    },
    "papermill": {
     "duration": 0.026134,
     "end_time": "2022-09-28T10:59:50.507114",
     "exception": false,
     "start_time": "2022-09-28T10:59:50.480980",
     "status": "completed"
    },
    "tags": []
   },
   "outputs": [
    {
     "data": {
      "text/plain": [
       "array(['1', '1', '0', ..., '0', '0', '0'], dtype=object)"
      ]
     },
     "execution_count": 32,
     "metadata": {},
     "output_type": "execute_result"
    }
   ],
   "source": [
    "Y_train"
   ]
  },
  {
   "cell_type": "code",
   "execution_count": 33,
   "id": "71483c51",
   "metadata": {
    "execution": {
     "iopub.execute_input": "2022-09-28T10:59:50.544427Z",
     "iopub.status.busy": "2022-09-28T10:59:50.543637Z",
     "iopub.status.idle": "2022-09-28T10:59:50.552978Z",
     "shell.execute_reply": "2022-09-28T10:59:50.552089Z"
    },
    "papermill": {
     "duration": 0.030488,
     "end_time": "2022-09-28T10:59:50.554904",
     "exception": false,
     "start_time": "2022-09-28T10:59:50.524416",
     "status": "completed"
    },
    "tags": []
   },
   "outputs": [
    {
     "data": {
      "text/html": [
       "<div>\n",
       "<style scoped>\n",
       "    .dataframe tbody tr th:only-of-type {\n",
       "        vertical-align: middle;\n",
       "    }\n",
       "\n",
       "    .dataframe tbody tr th {\n",
       "        vertical-align: top;\n",
       "    }\n",
       "\n",
       "    .dataframe thead th {\n",
       "        text-align: right;\n",
       "    }\n",
       "</style>\n",
       "<table border=\"1\" class=\"dataframe\">\n",
       "  <thead>\n",
       "    <tr style=\"text-align: right;\">\n",
       "      <th></th>\n",
       "      <th>Path</th>\n",
       "      <th>label</th>\n",
       "    </tr>\n",
       "  </thead>\n",
       "  <tbody>\n",
       "    <tr>\n",
       "      <th>0</th>\n",
       "      <td>../input/skincancer/Datasets/Test/JPG/ISIC_563...</td>\n",
       "      <td>1</td>\n",
       "    </tr>\n",
       "    <tr>\n",
       "      <th>1</th>\n",
       "      <td>../input/skincancer/Datasets/Test/JPG/ISIC_957...</td>\n",
       "      <td>1</td>\n",
       "    </tr>\n",
       "    <tr>\n",
       "      <th>2</th>\n",
       "      <td>../input/skincancer/Datasets/Train/JPG/ISIC_54...</td>\n",
       "      <td>0</td>\n",
       "    </tr>\n",
       "    <tr>\n",
       "      <th>3</th>\n",
       "      <td>../input/skincancer/Datasets/Train/JPG/ISIC_83...</td>\n",
       "      <td>0</td>\n",
       "    </tr>\n",
       "    <tr>\n",
       "      <th>4</th>\n",
       "      <td>../input/skincancer/Datasets/Train/JPG/ISIC_77...</td>\n",
       "      <td>0</td>\n",
       "    </tr>\n",
       "  </tbody>\n",
       "</table>\n",
       "</div>"
      ],
      "text/plain": [
       "                                                Path label\n",
       "0  ../input/skincancer/Datasets/Test/JPG/ISIC_563...     1\n",
       "1  ../input/skincancer/Datasets/Test/JPG/ISIC_957...     1\n",
       "2  ../input/skincancer/Datasets/Train/JPG/ISIC_54...     0\n",
       "3  ../input/skincancer/Datasets/Train/JPG/ISIC_83...     0\n",
       "4  ../input/skincancer/Datasets/Train/JPG/ISIC_77...     0"
      ]
     },
     "execution_count": 33,
     "metadata": {},
     "output_type": "execute_result"
    }
   ],
   "source": [
    "train_map.head()"
   ]
  },
  {
   "cell_type": "code",
   "execution_count": 34,
   "id": "d9cd9867",
   "metadata": {
    "execution": {
     "iopub.execute_input": "2022-09-28T10:59:50.592088Z",
     "iopub.status.busy": "2022-09-28T10:59:50.591292Z",
     "iopub.status.idle": "2022-09-28T10:59:50.598081Z",
     "shell.execute_reply": "2022-09-28T10:59:50.597285Z"
    },
    "papermill": {
     "duration": 0.027231,
     "end_time": "2022-09-28T10:59:50.600039",
     "exception": false,
     "start_time": "2022-09-28T10:59:50.572808",
     "status": "completed"
    },
    "tags": []
   },
   "outputs": [],
   "source": [
    "test_map = pd.DataFrame()\n",
    "test_map[\"Path\"] = Y_test\n",
    "test_map[\"label\"] = X_test"
   ]
  },
  {
   "cell_type": "code",
   "execution_count": 35,
   "id": "3899c325",
   "metadata": {
    "execution": {
     "iopub.execute_input": "2022-09-28T10:59:50.636373Z",
     "iopub.status.busy": "2022-09-28T10:59:50.635838Z",
     "iopub.status.idle": "2022-09-28T10:59:50.642136Z",
     "shell.execute_reply": "2022-09-28T10:59:50.641231Z"
    },
    "papermill": {
     "duration": 0.026512,
     "end_time": "2022-09-28T10:59:50.644092",
     "exception": false,
     "start_time": "2022-09-28T10:59:50.617580",
     "status": "completed"
    },
    "tags": []
   },
   "outputs": [],
   "source": [
    "val_map = pd.DataFrame()\n",
    "val_map[\"Path\"] = Y_val\n",
    "val_map[\"label\"] = X_val"
   ]
  },
  {
   "cell_type": "code",
   "execution_count": 36,
   "id": "a62381b1",
   "metadata": {
    "execution": {
     "iopub.execute_input": "2022-09-28T10:59:50.680826Z",
     "iopub.status.busy": "2022-09-28T10:59:50.680295Z",
     "iopub.status.idle": "2022-09-28T10:59:50.685603Z",
     "shell.execute_reply": "2022-09-28T10:59:50.684569Z"
    },
    "papermill": {
     "duration": 0.027072,
     "end_time": "2022-09-28T10:59:50.688604",
     "exception": false,
     "start_time": "2022-09-28T10:59:50.661532",
     "status": "completed"
    },
    "tags": []
   },
   "outputs": [
    {
     "name": "stdout",
     "output_type": "stream",
     "text": [
      "Train Data Size: 35286\n",
      "Test Data Size: 8822\n",
      "Validation Data Size: 4411\n"
     ]
    }
   ],
   "source": [
    "print(\"Train Data Size: {}\".format(len(train_map)))\n",
    "print(\"Test Data Size: {}\".format(len(test_map)))\n",
    "print(\"Validation Data Size: {}\".format(len(val_map)))"
   ]
  },
  {
   "cell_type": "code",
   "execution_count": 37,
   "id": "508190e3",
   "metadata": {
    "execution": {
     "iopub.execute_input": "2022-09-28T10:59:50.726707Z",
     "iopub.status.busy": "2022-09-28T10:59:50.726077Z",
     "iopub.status.idle": "2022-09-28T10:59:50.730445Z",
     "shell.execute_reply": "2022-09-28T10:59:50.729519Z"
    },
    "papermill": {
     "duration": 0.024665,
     "end_time": "2022-09-28T10:59:50.732387",
     "exception": false,
     "start_time": "2022-09-28T10:59:50.707722",
     "status": "completed"
    },
    "tags": []
   },
   "outputs": [],
   "source": [
    "colorch = 3\n",
    "image_size = 224\n",
    "input_shape = (image_size, image_size, colorch)"
   ]
  },
  {
   "cell_type": "code",
   "execution_count": 38,
   "id": "d3f2b4f9",
   "metadata": {
    "execution": {
     "iopub.execute_input": "2022-09-28T10:59:50.769203Z",
     "iopub.status.busy": "2022-09-28T10:59:50.768385Z",
     "iopub.status.idle": "2022-09-28T10:59:50.774039Z",
     "shell.execute_reply": "2022-09-28T10:59:50.773008Z"
    },
    "papermill": {
     "duration": 0.026328,
     "end_time": "2022-09-28T10:59:50.776547",
     "exception": false,
     "start_time": "2022-09-28T10:59:50.750219",
     "status": "completed"
    },
    "tags": []
   },
   "outputs": [
    {
     "name": "stdout",
     "output_type": "stream",
     "text": [
      "Classes:  ['Benign', 'Malignant']\n"
     ]
    }
   ],
   "source": [
    "classes = ['Benign', 'Malignant']\n",
    "categories = sorted(classes)\n",
    "print(\"Classes: \", categories)"
   ]
  },
  {
   "cell_type": "code",
   "execution_count": 39,
   "id": "3a00a156",
   "metadata": {
    "execution": {
     "iopub.execute_input": "2022-09-28T10:59:50.813511Z",
     "iopub.status.busy": "2022-09-28T10:59:50.812701Z",
     "iopub.status.idle": "2022-09-28T10:59:50.817777Z",
     "shell.execute_reply": "2022-09-28T10:59:50.816937Z"
    },
    "papermill": {
     "duration": 0.025102,
     "end_time": "2022-09-28T10:59:50.819681",
     "exception": false,
     "start_time": "2022-09-28T10:59:50.794579",
     "status": "completed"
    },
    "tags": []
   },
   "outputs": [],
   "source": [
    "datagen = ImageDataGenerator(rescale = 1./255, \n",
    "                            horizontal_flip = True, \n",
    "                            brightness_range = [1.0, 1.3],\n",
    "                             rotation_range = 15)"
   ]
  },
  {
   "cell_type": "code",
   "execution_count": 40,
   "id": "ee3624fa",
   "metadata": {
    "execution": {
     "iopub.execute_input": "2022-09-28T10:59:50.856654Z",
     "iopub.status.busy": "2022-09-28T10:59:50.856017Z",
     "iopub.status.idle": "2022-09-28T10:59:50.861388Z",
     "shell.execute_reply": "2022-09-28T10:59:50.860470Z"
    },
    "papermill": {
     "duration": 0.026092,
     "end_time": "2022-09-28T10:59:50.863423",
     "exception": false,
     "start_time": "2022-09-28T10:59:50.837331",
     "status": "completed"
    },
    "tags": []
   },
   "outputs": [],
   "source": [
    "batch_size = 64"
   ]
  },
  {
   "cell_type": "code",
   "execution_count": 41,
   "id": "21fa4f40",
   "metadata": {
    "execution": {
     "iopub.execute_input": "2022-09-28T10:59:50.900761Z",
     "iopub.status.busy": "2022-09-28T10:59:50.900102Z",
     "iopub.status.idle": "2022-09-28T10:59:50.905382Z",
     "shell.execute_reply": "2022-09-28T10:59:50.904434Z"
    },
    "papermill": {
     "duration": 0.026342,
     "end_time": "2022-09-28T10:59:50.907367",
     "exception": false,
     "start_time": "2022-09-28T10:59:50.881025",
     "status": "completed"
    },
    "tags": []
   },
   "outputs": [],
   "source": [
    "def get_generator(frame_):\n",
    "    generator = datagen.flow_from_dataframe(dataframe = frame_,\n",
    "                                           x_col = \"Path\",\n",
    "                                           y_col = 'label', \n",
    "                                           batch_size=batch_size,\n",
    "                                           seed = seed,\n",
    "                                           shuffle = False,\n",
    "                                           class_mode = 'binary', \n",
    "                                           color_mode ='rgb', \n",
    "                                           save_format = 'jpg', \n",
    "                                           target_size = (image_size, image_size))\n",
    "    return generator"
   ]
  },
  {
   "cell_type": "code",
   "execution_count": 42,
   "id": "4ebc8731",
   "metadata": {
    "execution": {
     "iopub.execute_input": "2022-09-28T10:59:50.944133Z",
     "iopub.status.busy": "2022-09-28T10:59:50.943398Z",
     "iopub.status.idle": "2022-09-28T11:01:17.075016Z",
     "shell.execute_reply": "2022-09-28T11:01:17.074069Z"
    },
    "papermill": {
     "duration": 86.171413,
     "end_time": "2022-09-28T11:01:17.096294",
     "exception": false,
     "start_time": "2022-09-28T10:59:50.924881",
     "status": "completed"
    },
    "tags": []
   },
   "outputs": [
    {
     "name": "stdout",
     "output_type": "stream",
     "text": [
      "Found 35286 validated image filenames belonging to 2 classes.\n",
      "label Count for Train Datasets: \n"
     ]
    },
    {
     "data": {
      "text/plain": [
       "0    26033\n",
       "1     9253\n",
       "Name: label, dtype: int64"
      ]
     },
     "execution_count": 42,
     "metadata": {},
     "output_type": "execute_result"
    }
   ],
   "source": [
    "train_df = train_map.sample(frac = 1, random_state = 42)\n",
    "train_generator = get_generator(train_df)\n",
    "\n",
    "print(\"label Count for Train Datasets: \")\n",
    "getLabelsCount(train_df)"
   ]
  },
  {
   "cell_type": "code",
   "execution_count": 43,
   "id": "09986274",
   "metadata": {
    "execution": {
     "iopub.execute_input": "2022-09-28T11:01:17.134304Z",
     "iopub.status.busy": "2022-09-28T11:01:17.133524Z",
     "iopub.status.idle": "2022-09-28T11:01:38.516426Z",
     "shell.execute_reply": "2022-09-28T11:01:38.515245Z"
    },
    "papermill": {
     "duration": 21.404256,
     "end_time": "2022-09-28T11:01:38.519030",
     "exception": false,
     "start_time": "2022-09-28T11:01:17.114774",
     "status": "completed"
    },
    "tags": []
   },
   "outputs": [
    {
     "name": "stdout",
     "output_type": "stream",
     "text": [
      "Found 8822 validated image filenames belonging to 2 classes.\n",
      "label Count for Test Datasets: \n"
     ]
    },
    {
     "data": {
      "text/plain": [
       "0    6509\n",
       "1    2313\n",
       "Name: label, dtype: int64"
      ]
     },
     "execution_count": 43,
     "metadata": {},
     "output_type": "execute_result"
    }
   ],
   "source": [
    "test_df = test_map.sample(frac = 1, random_state = 42)\n",
    "test_generator = get_generator(test_df)\n",
    "\n",
    "print(\"label Count for Test Datasets: \")\n",
    "getLabelsCount(test_df)"
   ]
  },
  {
   "cell_type": "code",
   "execution_count": 44,
   "id": "70518f3e",
   "metadata": {
    "execution": {
     "iopub.execute_input": "2022-09-28T11:01:38.557264Z",
     "iopub.status.busy": "2022-09-28T11:01:38.556333Z",
     "iopub.status.idle": "2022-09-28T11:01:40.256339Z",
     "shell.execute_reply": "2022-09-28T11:01:40.254595Z"
    },
    "papermill": {
     "duration": 1.721634,
     "end_time": "2022-09-28T11:01:40.259006",
     "exception": false,
     "start_time": "2022-09-28T11:01:38.537372",
     "status": "completed"
    },
    "tags": []
   },
   "outputs": [
    {
     "name": "stdout",
     "output_type": "stream",
     "text": [
      "Found 4411 validated image filenames belonging to 2 classes.\n",
      "label Count for Validation Datasets: \n"
     ]
    },
    {
     "data": {
      "text/plain": [
       "0    3252\n",
       "1    1159\n",
       "Name: label, dtype: int64"
      ]
     },
     "execution_count": 44,
     "metadata": {},
     "output_type": "execute_result"
    }
   ],
   "source": [
    "val_df = val_map.sample(frac = 1, random_state = 42)\n",
    "val_generator = get_generator(val_df)\n",
    "\n",
    "print(\"label Count for Validation Datasets: \")\n",
    "getLabelsCount(val_df)"
   ]
  },
  {
   "cell_type": "code",
   "execution_count": null,
   "id": "113c17b6",
   "metadata": {
    "papermill": {
     "duration": 0.01777,
     "end_time": "2022-09-28T11:01:40.295300",
     "exception": false,
     "start_time": "2022-09-28T11:01:40.277530",
     "status": "completed"
    },
    "tags": []
   },
   "outputs": [],
   "source": []
  }
 ],
 "metadata": {
  "kernelspec": {
   "display_name": "Python 3 (ipykernel)",
   "language": "python",
   "name": "python3"
  },
  "language_info": {
   "codemirror_mode": {
    "name": "ipython",
    "version": 3
   },
   "file_extension": ".py",
   "mimetype": "text/x-python",
   "name": "python",
   "nbconvert_exporter": "python",
   "pygments_lexer": "ipython3",
   "version": "3.9.13"
  },
  "papermill": {
   "default_parameters": {},
   "duration": 144.20253,
   "end_time": "2022-09-28T11:01:43.413622",
   "environment_variables": {},
   "exception": null,
   "input_path": "__notebook__.ipynb",
   "output_path": "__notebook__.ipynb",
   "parameters": {},
   "start_time": "2022-09-28T10:59:19.211092",
   "version": "2.3.4"
  }
 },
 "nbformat": 4,
 "nbformat_minor": 5
}

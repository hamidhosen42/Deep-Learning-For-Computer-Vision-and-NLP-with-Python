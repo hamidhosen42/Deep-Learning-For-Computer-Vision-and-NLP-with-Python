{
 "cells": [
  {
   "cell_type": "markdown",
   "id": "b460977a",
   "metadata": {
    "papermill": {
     "duration": 0.005548,
     "end_time": "2022-10-05T16:37:49.809805",
     "exception": false,
     "start_time": "2022-10-05T16:37:49.804257",
     "status": "completed"
    },
    "tags": []
   },
   "source": [
    "### IMPORT LIBRARIES"
   ]
  },
  {
   "cell_type": "code",
   "execution_count": 1,
   "id": "3bb9f7e0",
   "metadata": {
    "_cell_guid": "79c7e3d0-c299-4dcb-8224-4455121ee9b0",
    "_uuid": "d629ff2d2480ee46fbb7e2d37f6b5fab8052498a",
    "execution": {
     "iopub.execute_input": "2022-10-05T16:37:49.820820Z",
     "iopub.status.busy": "2022-10-05T16:37:49.820092Z",
     "iopub.status.idle": "2022-10-05T16:37:56.252001Z",
     "shell.execute_reply": "2022-10-05T16:37:56.250989Z"
    },
    "papermill": {
     "duration": 6.440416,
     "end_time": "2022-10-05T16:37:56.254696",
     "exception": false,
     "start_time": "2022-10-05T16:37:49.814280",
     "status": "completed"
    },
    "tags": []
   },
   "outputs": [],
   "source": [
    "import numpy as np\n",
    "import pandas as pd\n",
    "import matplotlib.pyplot as plt\n",
    "import seaborn as sn\n",
    "import skimage.io\n",
    "import os \n",
    "import tqdm\n",
    "import glob\n",
    "import tensorflow \n",
    "\n",
    "from tqdm import tqdm\n",
    "from sklearn.utils import shuffle\n",
    "from sklearn import metrics\n",
    "from sklearn.metrics import confusion_matrix, classification_report\n",
    "from sklearn.model_selection import train_test_split\n",
    "\n",
    "from skimage.io import imread, imshow\n",
    "from skimage.transform import resize\n",
    "from skimage.color import gray2rgb\n",
    "\n",
    "import tensorflow as tf\n",
    "from tensorflow.keras.preprocessing.image import ImageDataGenerator\n",
    "from tensorflow.keras.preprocessing import image_dataset_from_directory\n",
    "from tensorflow.keras.models import Sequential\n",
    "from tensorflow.keras.layers import InputLayer, BatchNormalization, Dropout, Flatten, Dense, Activation, MaxPool2D, Conv2D\n",
    "from tensorflow.keras.callbacks import EarlyStopping, ModelCheckpoint\n",
    "from tensorflow.keras.applications.mobilenet import MobileNet # MobileNet\n",
    "from tensorflow.keras.utils import to_categorical\n",
    "from keras import optimizers\n",
    "\n",
    "from keras.callbacks import Callback,ModelCheckpoint\n",
    "from keras.models import Sequential,load_model\n",
    "from keras.layers import Dense, Dropout\n",
    "from keras.wrappers.scikit_learn import KerasClassifier\n",
    "import keras.backend as K\n",
    "\n",
    "\n",
    "from typeguard import typechecked\n",
    "from typing import Optional"
   ]
  },
  {
   "cell_type": "code",
   "execution_count": 2,
   "id": "511a111f",
   "metadata": {
    "execution": {
     "iopub.execute_input": "2022-10-05T16:37:56.265392Z",
     "iopub.status.busy": "2022-10-05T16:37:56.264852Z",
     "iopub.status.idle": "2022-10-05T16:37:56.269621Z",
     "shell.execute_reply": "2022-10-05T16:37:56.268639Z"
    },
    "papermill": {
     "duration": 0.012039,
     "end_time": "2022-10-05T16:37:56.271507",
     "exception": false,
     "start_time": "2022-10-05T16:37:56.259468",
     "status": "completed"
    },
    "tags": []
   },
   "outputs": [],
   "source": [
    "AUTOTUNE = tf.data.experimental.AUTOTUNE"
   ]
  },
  {
   "cell_type": "code",
   "execution_count": 3,
   "id": "aa05c24b",
   "metadata": {
    "execution": {
     "iopub.execute_input": "2022-10-05T16:37:56.282018Z",
     "iopub.status.busy": "2022-10-05T16:37:56.281171Z",
     "iopub.status.idle": "2022-10-05T16:37:56.287166Z",
     "shell.execute_reply": "2022-10-05T16:37:56.286308Z"
    },
    "papermill": {
     "duration": 0.013319,
     "end_time": "2022-10-05T16:37:56.289165",
     "exception": false,
     "start_time": "2022-10-05T16:37:56.275846",
     "status": "completed"
    },
    "tags": []
   },
   "outputs": [],
   "source": [
    "train_datagen = ImageDataGenerator(rescale = 1./255,\n",
    "                                   validation_split = 0.2,\n",
    "                                  \n",
    "        rotation_range=5,\n",
    "        width_shift_range=0.2,\n",
    "        height_shift_range=0.2,\n",
    "        shear_range=0.2,\n",
    "        #zoom_range=0.2,\n",
    "        horizontal_flip=True,\n",
    "        vertical_flip=True,\n",
    "        fill_mode='nearest')\n",
    "\n",
    "valid_datagen = ImageDataGenerator(rescale = 1./255,\n",
    "                                  validation_split = 0.2)\n",
    "\n",
    "test_datagen  = ImageDataGenerator(rescale = 1./255\n",
    "                                  )"
   ]
  },
  {
   "cell_type": "code",
   "execution_count": 4,
   "id": "c5f4182b",
   "metadata": {
    "execution": {
     "iopub.execute_input": "2022-10-05T16:37:56.298867Z",
     "iopub.status.busy": "2022-10-05T16:37:56.298615Z",
     "iopub.status.idle": "2022-10-05T16:37:57.639441Z",
     "shell.execute_reply": "2022-10-05T16:37:57.638339Z"
    },
    "papermill": {
     "duration": 1.348604,
     "end_time": "2022-10-05T16:37:57.642131",
     "exception": false,
     "start_time": "2022-10-05T16:37:56.293527",
     "status": "completed"
    },
    "tags": []
   },
   "outputs": [
    {
     "name": "stdout",
     "output_type": "stream",
     "text": [
      "Found 1602 images belonging to 3 classes.\n"
     ]
    }
   ],
   "source": [
    "train_dataset  = train_datagen.flow_from_directory(directory = './skinlesions/train/',\n",
    "                                                   target_size = (224,224),\n",
    "                                                   class_mode = 'categorical',\n",
    "                                                   subset = 'training',\n",
    "                                                   batch_size = 32)"
   ]
  },
  {
   "cell_type": "code",
   "execution_count": 5,
   "id": "2e3126c2",
   "metadata": {
    "execution": {
     "iopub.execute_input": "2022-10-05T16:37:57.653835Z",
     "iopub.status.busy": "2022-10-05T16:37:57.653005Z",
     "iopub.status.idle": "2022-10-05T16:37:57.763327Z",
     "shell.execute_reply": "2022-10-05T16:37:57.761922Z"
    },
    "papermill": {
     "duration": 0.118755,
     "end_time": "2022-10-05T16:37:57.766090",
     "exception": false,
     "start_time": "2022-10-05T16:37:57.647335",
     "status": "completed"
    },
    "tags": []
   },
   "outputs": [
    {
     "name": "stdout",
     "output_type": "stream",
     "text": [
      "Found 29 images belonging to 3 classes.\n"
     ]
    }
   ],
   "source": [
    "valid_dataset = valid_datagen.flow_from_directory(directory = './skinlesions/valid/',\n",
    "                                                  target_size = (224,224),\n",
    "                                                  class_mode = 'categorical',\n",
    "                                                  subset = 'validation',\n",
    "                                                  batch_size = 32)"
   ]
  },
  {
   "cell_type": "code",
   "execution_count": 6,
   "id": "c0c19821",
   "metadata": {
    "execution": {
     "iopub.execute_input": "2022-10-05T16:37:57.777432Z",
     "iopub.status.busy": "2022-10-05T16:37:57.776787Z",
     "iopub.status.idle": "2022-10-05T16:37:57.987940Z",
     "shell.execute_reply": "2022-10-05T16:37:57.986837Z"
    },
    "papermill": {
     "duration": 0.219308,
     "end_time": "2022-10-05T16:37:57.990445",
     "exception": false,
     "start_time": "2022-10-05T16:37:57.771137",
     "status": "completed"
    },
    "tags": []
   },
   "outputs": [
    {
     "name": "stdout",
     "output_type": "stream",
     "text": [
      "Found 600 images belonging to 3 classes.\n"
     ]
    }
   ],
   "source": [
    "test_dataset = test_datagen.flow_from_directory(directory = './skinlesions/test/',\n",
    "                                                  target_size = (224,224),\n",
    "                                                  class_mode = 'categorical',\n",
    "                                                  batch_size = 32)"
   ]
  },
  {
   "cell_type": "markdown",
   "id": "84a070e9",
   "metadata": {
    "papermill": {
     "duration": 0.004371,
     "end_time": "2022-10-05T16:37:57.999397",
     "exception": false,
     "start_time": "2022-10-05T16:37:57.995026",
     "status": "completed"
    },
    "tags": []
   },
   "source": [
    "## feature preprocessing and label encoding."
   ]
  },
  {
   "cell_type": "markdown",
   "id": "6bce8606",
   "metadata": {
    "papermill": {
     "duration": 0.00425,
     "end_time": "2022-10-05T16:37:58.008230",
     "exception": false,
     "start_time": "2022-10-05T16:37:58.003980",
     "status": "completed"
    },
    "tags": []
   },
   "source": [
    "### MODEL BUILDING"
   ]
  },
  {
   "cell_type": "code",
   "execution_count": 7,
   "id": "43c0d15d",
   "metadata": {
    "execution": {
     "iopub.execute_input": "2022-10-05T16:37:58.018963Z",
     "iopub.status.busy": "2022-10-05T16:37:58.018152Z",
     "iopub.status.idle": "2022-10-05T16:38:01.964008Z",
     "shell.execute_reply": "2022-10-05T16:38:01.962965Z"
    },
    "papermill": {
     "duration": 3.954783,
     "end_time": "2022-10-05T16:38:01.967566",
     "exception": false,
     "start_time": "2022-10-05T16:37:58.012783",
     "status": "completed"
    },
    "tags": []
   },
   "outputs": [
    {
     "name": "stdout",
     "output_type": "stream",
     "text": [
      "Downloading data from https://storage.googleapis.com/tensorflow/keras-applications/mobilenet/mobilenet_1_0_224_tf_no_top.h5\n",
      "17225924/17225924 [==============================] - 50s 3us/step\n"
     ]
    }
   ],
   "source": [
    "base_model = MobileNet(input_shape=(224,224,3), \n",
    "                   include_top=False,\n",
    "                   weights=\"imagenet\")"
   ]
  },
  {
   "cell_type": "code",
   "execution_count": 8,
   "id": "2a794357",
   "metadata": {
    "execution": {
     "iopub.execute_input": "2022-10-05T16:38:01.984848Z",
     "iopub.status.busy": "2022-10-05T16:38:01.984367Z",
     "iopub.status.idle": "2022-10-05T16:38:01.994766Z",
     "shell.execute_reply": "2022-10-05T16:38:01.993929Z"
    },
    "papermill": {
     "duration": 0.022579,
     "end_time": "2022-10-05T16:38:01.997800",
     "exception": false,
     "start_time": "2022-10-05T16:38:01.975221",
     "status": "completed"
    },
    "tags": []
   },
   "outputs": [],
   "source": [
    "# Freezing Layers\n",
    "\n",
    "for layer in base_model.layers:\n",
    "    layer.trainable=False"
   ]
  },
  {
   "cell_type": "code",
   "execution_count": 9,
   "id": "38a9335f",
   "metadata": {
    "execution": {
     "iopub.execute_input": "2022-10-05T16:38:02.015935Z",
     "iopub.status.busy": "2022-10-05T16:38:02.015500Z",
     "iopub.status.idle": "2022-10-05T16:38:02.460201Z",
     "shell.execute_reply": "2022-10-05T16:38:02.459255Z"
    },
    "papermill": {
     "duration": 0.456258,
     "end_time": "2022-10-05T16:38:02.462989",
     "exception": false,
     "start_time": "2022-10-05T16:38:02.006731",
     "status": "completed"
    },
    "tags": []
   },
   "outputs": [],
   "source": [
    "# Building Model\n",
    "\n",
    "model=Sequential()\n",
    "model.add(base_model)\n",
    "model.add(Dropout(0.5))\n",
    "model.add(Flatten())\n",
    "model.add(BatchNormalization())\n",
    "model.add(Dense(64,kernel_initializer='he_uniform'))\n",
    "model.add(BatchNormalization())\n",
    "model.add(Activation('relu'))\n",
    "model.add(Dropout(0.5))\n",
    "model.add(Dense(64,kernel_initializer='he_uniform'))\n",
    "model.add(BatchNormalization())\n",
    "model.add(Activation('relu'))\n",
    "model.add(Dropout(0.5))\n",
    "model.add(Dense(64,kernel_initializer='he_uniform'))\n",
    "model.add(BatchNormalization())\n",
    "model.add(Activation('relu'))\n",
    "model.add(Dropout(0.5))\n",
    "model.add(Dense(32,kernel_initializer='he_uniform'))\n",
    "model.add(BatchNormalization())\n",
    "model.add(Activation('relu'))\n",
    "model.add(Dropout(0.5))\n",
    "model.add(Dense(32,kernel_initializer='he_uniform'))\n",
    "model.add(BatchNormalization())\n",
    "model.add(Activation('relu'))\n",
    "model.add(Dense(3,activation='softmax'))"
   ]
  },
  {
   "cell_type": "code",
   "execution_count": 10,
   "id": "bfdf1281",
   "metadata": {
    "execution": {
     "iopub.execute_input": "2022-10-05T16:38:02.479974Z",
     "iopub.status.busy": "2022-10-05T16:38:02.479422Z",
     "iopub.status.idle": "2022-10-05T16:38:02.495436Z",
     "shell.execute_reply": "2022-10-05T16:38:02.492168Z"
    },
    "papermill": {
     "duration": 0.027315,
     "end_time": "2022-10-05T16:38:02.497928",
     "exception": false,
     "start_time": "2022-10-05T16:38:02.470613",
     "status": "completed"
    },
    "tags": []
   },
   "outputs": [
    {
     "name": "stdout",
     "output_type": "stream",
     "text": [
      "Model: \"sequential\"\n",
      "_________________________________________________________________\n",
      " Layer (type)                Output Shape              Param #   \n",
      "=================================================================\n",
      " mobilenet_1.00_224 (Functio  (None, 7, 7, 1024)       3228864   \n",
      " nal)                                                            \n",
      "                                                                 \n",
      " dropout (Dropout)           (None, 7, 7, 1024)        0         \n",
      "                                                                 \n",
      " flatten (Flatten)           (None, 50176)             0         \n",
      "                                                                 \n",
      " batch_normalization (BatchN  (None, 50176)            200704    \n",
      " ormalization)                                                   \n",
      "                                                                 \n",
      " dense (Dense)               (None, 64)                3211328   \n",
      "                                                                 \n",
      " batch_normalization_1 (Batc  (None, 64)               256       \n",
      " hNormalization)                                                 \n",
      "                                                                 \n",
      " activation (Activation)     (None, 64)                0         \n",
      "                                                                 \n",
      " dropout_1 (Dropout)         (None, 64)                0         \n",
      "                                                                 \n",
      " dense_1 (Dense)             (None, 64)                4160      \n",
      "                                                                 \n",
      " batch_normalization_2 (Batc  (None, 64)               256       \n",
      " hNormalization)                                                 \n",
      "                                                                 \n",
      " activation_1 (Activation)   (None, 64)                0         \n",
      "                                                                 \n",
      " dropout_2 (Dropout)         (None, 64)                0         \n",
      "                                                                 \n",
      " dense_2 (Dense)             (None, 64)                4160      \n",
      "                                                                 \n",
      " batch_normalization_3 (Batc  (None, 64)               256       \n",
      " hNormalization)                                                 \n",
      "                                                                 \n",
      " activation_2 (Activation)   (None, 64)                0         \n",
      "                                                                 \n",
      " dropout_3 (Dropout)         (None, 64)                0         \n",
      "                                                                 \n",
      " dense_3 (Dense)             (None, 32)                2080      \n",
      "                                                                 \n",
      " batch_normalization_4 (Batc  (None, 32)               128       \n",
      " hNormalization)                                                 \n",
      "                                                                 \n",
      " activation_3 (Activation)   (None, 32)                0         \n",
      "                                                                 \n",
      " dropout_4 (Dropout)         (None, 32)                0         \n",
      "                                                                 \n",
      " dense_4 (Dense)             (None, 32)                1056      \n",
      "                                                                 \n",
      " batch_normalization_5 (Batc  (None, 32)               128       \n",
      " hNormalization)                                                 \n",
      "                                                                 \n",
      " activation_4 (Activation)   (None, 32)                0         \n",
      "                                                                 \n",
      " dense_5 (Dense)             (None, 3)                 99        \n",
      "                                                                 \n",
      "=================================================================\n",
      "Total params: 6,653,475\n",
      "Trainable params: 3,323,747\n",
      "Non-trainable params: 3,329,728\n",
      "_________________________________________________________________\n"
     ]
    }
   ],
   "source": [
    "# Model Summary\n",
    "\n",
    "model.summary()"
   ]
  },
  {
   "cell_type": "code",
   "execution_count": 11,
   "id": "e2a60077",
   "metadata": {
    "execution": {
     "iopub.execute_input": "2022-10-05T16:38:02.514460Z",
     "iopub.status.busy": "2022-10-05T16:38:02.514141Z",
     "iopub.status.idle": "2022-10-05T16:38:02.522560Z",
     "shell.execute_reply": "2022-10-05T16:38:02.521634Z"
    },
    "papermill": {
     "duration": 0.019388,
     "end_time": "2022-10-05T16:38:02.525128",
     "exception": false,
     "start_time": "2022-10-05T16:38:02.505740",
     "status": "completed"
    },
    "tags": []
   },
   "outputs": [],
   "source": [
    "def f1_score(y_true, y_pred): #taken from old keras source code\n",
    "    true_positives = K.sum(K.round(K.clip(y_true * y_pred, 0, 1)))\n",
    "    possible_positives = K.sum(K.round(K.clip(y_true, 0, 1)))\n",
    "    predicted_positives = K.sum(K.round(K.clip(y_pred, 0, 1)))\n",
    "    precision = true_positives / (predicted_positives + K.epsilon())\n",
    "    recall = true_positives / (possible_positives + K.epsilon())\n",
    "    f1_val = 2*(precision*recall)/(precision+recall+K.epsilon())\n",
    "    return f1_val"
   ]
  },
  {
   "cell_type": "code",
   "execution_count": 12,
   "id": "58baabb3",
   "metadata": {
    "execution": {
     "iopub.execute_input": "2022-10-05T16:38:02.541346Z",
     "iopub.status.busy": "2022-10-05T16:38:02.541030Z",
     "iopub.status.idle": "2022-10-05T16:38:02.564104Z",
     "shell.execute_reply": "2022-10-05T16:38:02.563316Z"
    },
    "papermill": {
     "duration": 0.033932,
     "end_time": "2022-10-05T16:38:02.566548",
     "exception": false,
     "start_time": "2022-10-05T16:38:02.532616",
     "status": "completed"
    },
    "tags": []
   },
   "outputs": [],
   "source": [
    "METRICS = [\n",
    "      tf.keras.metrics.BinaryAccuracy(name='accuracy'),\n",
    "      tf.keras.metrics.Precision(name='precision'),\n",
    "      tf.keras.metrics.Recall(name='recall'),  \n",
    "      tf.keras.metrics.AUC(name='auc'),\n",
    "        f1_score,\n",
    "]"
   ]
  },
  {
   "cell_type": "code",
   "execution_count": 13,
   "id": "ec46fe5c",
   "metadata": {
    "execution": {
     "iopub.execute_input": "2022-10-05T16:38:02.583218Z",
     "iopub.status.busy": "2022-10-05T16:38:02.582891Z",
     "iopub.status.idle": "2022-10-05T16:38:02.588214Z",
     "shell.execute_reply": "2022-10-05T16:38:02.587420Z"
    },
    "papermill": {
     "duration": 0.017523,
     "end_time": "2022-10-05T16:38:02.591953",
     "exception": false,
     "start_time": "2022-10-05T16:38:02.574430",
     "status": "completed"
    },
    "tags": []
   },
   "outputs": [],
   "source": [
    "def exponential_decay(lr0, s):\n",
    "    def exponential_decay_fn(epoch):\n",
    "        return lr0 * 0.1 **(epoch / s)\n",
    "    return exponential_decay_fn\n",
    "\n",
    "exponential_decay_fn = exponential_decay(0.01, 5) # when i run it for 50 epochs\n",
    "\n",
    "lr_scheduler = tf.keras.callbacks.LearningRateScheduler(exponential_decay_fn)"
   ]
  },
  {
   "cell_type": "code",
   "execution_count": 14,
   "id": "dc64270e",
   "metadata": {
    "execution": {
     "iopub.execute_input": "2022-10-05T16:38:02.608331Z",
     "iopub.status.busy": "2022-10-05T16:38:02.607985Z",
     "iopub.status.idle": "2022-10-05T16:38:02.627093Z",
     "shell.execute_reply": "2022-10-05T16:38:02.626324Z"
    },
    "papermill": {
     "duration": 0.029757,
     "end_time": "2022-10-05T16:38:02.629499",
     "exception": false,
     "start_time": "2022-10-05T16:38:02.599742",
     "status": "completed"
    },
    "tags": []
   },
   "outputs": [],
   "source": [
    "model.compile(optimizer='rmsprop', loss='categorical_crossentropy',metrics=METRICS)"
   ]
  },
  {
   "cell_type": "code",
   "execution_count": 15,
   "id": "5db1ba5c",
   "metadata": {
    "execution": {
     "iopub.execute_input": "2022-10-05T16:38:02.645736Z",
     "iopub.status.busy": "2022-10-05T16:38:02.645341Z",
     "iopub.status.idle": "2022-10-05T16:45:01.712395Z",
     "shell.execute_reply": "2022-10-05T16:45:01.711416Z"
    },
    "papermill": {
     "duration": 419.077647,
     "end_time": "2022-10-05T16:45:01.714667",
     "exception": false,
     "start_time": "2022-10-05T16:38:02.637020",
     "status": "completed"
    },
    "tags": []
   },
   "outputs": [
    {
     "name": "stdout",
     "output_type": "stream",
     "text": [
      "Epoch 1/20\n",
      "51/51 [==============================] - 71s 1s/step - loss: 0.9213 - accuracy: 0.7626 - precision: 0.6721 - recall: 0.5618 - auc: 0.7647 - f1_score: 0.6039 - val_loss: 1.8968 - val_accuracy: 0.6782 - val_precision: 0.5172 - val_recall: 0.5172 - val_auc: 0.7491 - val_f1_score: 0.5172 - lr: 0.0100\n",
      "Epoch 2/20\n",
      "51/51 [==============================] - 50s 967ms/step - loss: 0.8373 - accuracy: 0.7853 - precision: 0.6822 - recall: 0.6660 - auc: 0.8005 - f1_score: 0.6737 - val_loss: 0.9943 - val_accuracy: 0.6782 - val_precision: 0.5172 - val_recall: 0.5172 - val_auc: 0.8109 - val_f1_score: 0.5172 - lr: 0.0063\n",
      "Epoch 3/20\n",
      "51/51 [==============================] - 49s 948ms/step - loss: 0.8269 - accuracy: 0.7888 - precision: 0.6866 - recall: 0.6742 - auc: 0.8076 - f1_score: 0.6862 - val_loss: 0.8942 - val_accuracy: 0.6782 - val_precision: 0.5172 - val_recall: 0.5172 - val_auc: 0.7982 - val_f1_score: 0.5172 - lr: 0.0040\n",
      "Epoch 4/20\n",
      "51/51 [==============================] - 49s 955ms/step - loss: 0.8165 - accuracy: 0.7888 - precision: 0.6871 - recall: 0.6729 - auc: 0.8096 - f1_score: 0.6765 - val_loss: 0.8564 - val_accuracy: 0.6782 - val_precision: 0.5172 - val_recall: 0.5172 - val_auc: 0.7892 - val_f1_score: 0.5172 - lr: 0.0025\n",
      "Epoch 5/20\n",
      "51/51 [==============================] - 49s 960ms/step - loss: 0.8035 - accuracy: 0.7892 - precision: 0.6867 - recall: 0.6760 - auc: 0.8193 - f1_score: 0.6869 - val_loss: 0.8551 - val_accuracy: 0.6897 - val_precision: 0.5357 - val_recall: 0.5172 - val_auc: 0.7776 - val_f1_score: 0.5263 - lr: 0.0016\n",
      "Epoch 6/20\n",
      "51/51 [==============================] - 50s 982ms/step - loss: 0.7913 - accuracy: 0.7903 - precision: 0.6880 - recall: 0.6785 - auc: 0.8267 - f1_score: 0.6799 - val_loss: 0.8306 - val_accuracy: 0.7011 - val_precision: 0.5556 - val_recall: 0.5172 - val_auc: 0.7711 - val_f1_score: 0.5357 - lr: 0.0010\n",
      "Epoch 7/20\n",
      "51/51 [==============================] - 49s 963ms/step - loss: 0.7898 - accuracy: 0.7898 - precision: 0.6900 - recall: 0.6710 - auc: 0.8269 - f1_score: 0.6772 - val_loss: 0.8280 - val_accuracy: 0.7126 - val_precision: 0.5769 - val_recall: 0.5172 - val_auc: 0.7720 - val_f1_score: 0.5455 - lr: 6.3096e-04\n",
      "Epoch 8/20\n",
      "51/51 [==============================] - 51s 988ms/step - loss: 0.8036 - accuracy: 0.7896 - precision: 0.6928 - recall: 0.6629 - auc: 0.8203 - f1_score: 0.6833 - val_loss: 0.8324 - val_accuracy: 0.7126 - val_precision: 0.5769 - val_recall: 0.5172 - val_auc: 0.7658 - val_f1_score: 0.5455 - lr: 3.9811e-04\n",
      "Epoch 9/20\n",
      "51/51 [==============================] - 51s 994ms/step - loss: 0.7895 - accuracy: 0.7911 - precision: 0.6939 - recall: 0.6679 - auc: 0.8270 - f1_score: 0.6776 - val_loss: 0.8334 - val_accuracy: 0.7126 - val_precision: 0.5769 - val_recall: 0.5172 - val_auc: 0.7672 - val_f1_score: 0.5455 - lr: 2.5119e-04\n",
      "Epoch 10/20\n",
      "51/51 [==============================] - 52s 1s/step - loss: 0.7976 - accuracy: 0.7892 - precision: 0.6887 - recall: 0.6710 - auc: 0.8199 - f1_score: 0.6762 - val_loss: 0.8347 - val_accuracy: 0.7126 - val_precision: 0.5769 - val_recall: 0.5172 - val_auc: 0.7672 - val_f1_score: 0.5455 - lr: 1.5849e-04\n",
      "Epoch 11/20\n",
      "51/51 [==============================] - 52s 1s/step - loss: 0.7919 - accuracy: 0.7913 - precision: 0.6934 - recall: 0.6704 - auc: 0.8253 - f1_score: 0.6691 - val_loss: 0.8367 - val_accuracy: 0.7011 - val_precision: 0.5600 - val_recall: 0.4828 - val_auc: 0.7661 - val_f1_score: 0.5185 - lr: 1.0000e-04\n",
      "Epoch 12/20\n",
      "51/51 [==============================] - 50s 972ms/step - loss: 0.7865 - accuracy: 0.7890 - precision: 0.6880 - recall: 0.6717 - auc: 0.8259 - f1_score: 0.6766 - val_loss: 0.8353 - val_accuracy: 0.7011 - val_precision: 0.5600 - val_recall: 0.4828 - val_auc: 0.7666 - val_f1_score: 0.5185 - lr: 6.3096e-05\n",
      "Epoch 13/20\n",
      "51/51 [==============================] - 51s 996ms/step - loss: 0.7859 - accuracy: 0.7930 - precision: 0.6944 - recall: 0.6767 - auc: 0.8320 - f1_score: 0.6727 - val_loss: 0.8328 - val_accuracy: 0.7126 - val_precision: 0.5833 - val_recall: 0.4828 - val_auc: 0.7681 - val_f1_score: 0.5283 - lr: 3.9811e-05\n",
      "Epoch 14/20\n",
      "51/51 [==============================] - 49s 950ms/step - loss: 0.7829 - accuracy: 0.7894 - precision: 0.6879 - recall: 0.6742 - auc: 0.8302 - f1_score: 0.6774 - val_loss: 0.8352 - val_accuracy: 0.7126 - val_precision: 0.5833 - val_recall: 0.4828 - val_auc: 0.7658 - val_f1_score: 0.5283 - lr: 2.5119e-05\n",
      "Epoch 15/20\n",
      "51/51 [==============================] - 50s 975ms/step - loss: 0.7827 - accuracy: 0.7901 - precision: 0.6902 - recall: 0.6717 - auc: 0.8309 - f1_score: 0.6776 - val_loss: 0.8355 - val_accuracy: 0.7126 - val_precision: 0.5833 - val_recall: 0.4828 - val_auc: 0.7661 - val_f1_score: 0.5283 - lr: 1.5849e-05\n",
      "Epoch 16/20\n",
      "51/51 [==============================] - 49s 957ms/step - loss: 0.7729 - accuracy: 0.7911 - precision: 0.6934 - recall: 0.6692 - auc: 0.8353 - f1_score: 0.6778 - val_loss: 0.8378 - val_accuracy: 0.7126 - val_precision: 0.5833 - val_recall: 0.4828 - val_auc: 0.7649 - val_f1_score: 0.5283 - lr: 1.0000e-05\n",
      "Epoch 17/20\n",
      "51/51 [==============================] - 50s 997ms/step - loss: 0.7748 - accuracy: 0.7882 - precision: 0.6874 - recall: 0.6685 - auc: 0.8348 - f1_score: 0.6841 - val_loss: 0.8339 - val_accuracy: 0.7011 - val_precision: 0.5652 - val_recall: 0.4483 - val_auc: 0.7658 - val_f1_score: 0.5000 - lr: 6.3096e-06\n",
      "Epoch 18/20\n",
      "51/51 [==============================] - 51s 995ms/step - loss: 0.7799 - accuracy: 0.7909 - precision: 0.6922 - recall: 0.6710 - auc: 0.8288 - f1_score: 0.6691 - val_loss: 0.8332 - val_accuracy: 0.7126 - val_precision: 0.5833 - val_recall: 0.4828 - val_auc: 0.7669 - val_f1_score: 0.5283 - lr: 3.9811e-06\n",
      "Epoch 19/20\n",
      "51/51 [==============================] - 49s 960ms/step - loss: 0.7930 - accuracy: 0.7907 - precision: 0.6918 - recall: 0.6710 - auc: 0.8239 - f1_score: 0.6867 - val_loss: 0.8336 - val_accuracy: 0.7011 - val_precision: 0.5652 - val_recall: 0.4483 - val_auc: 0.7649 - val_f1_score: 0.5000 - lr: 2.5119e-06\n",
      "Epoch 20/20\n",
      "51/51 [==============================] - 49s 951ms/step - loss: 0.7859 - accuracy: 0.7898 - precision: 0.6893 - recall: 0.6729 - auc: 0.8310 - f1_score: 0.6780 - val_loss: 0.8368 - val_accuracy: 0.7011 - val_precision: 0.5652 - val_recall: 0.4483 - val_auc: 0.7637 - val_f1_score: 0.5000 - lr: 1.5849e-06\n"
     ]
    }
   ],
   "source": [
    "history=model.fit(train_dataset,\n",
    "                        validation_data=valid_dataset,\n",
    "                        epochs = 20,\n",
    "                        verbose = 1,\n",
    "                         callbacks=lr_scheduler)"
   ]
  },
  {
   "cell_type": "code",
   "execution_count": 16,
   "id": "679bb046",
   "metadata": {
    "execution": {
     "iopub.execute_input": "2022-10-05T16:45:01.844433Z",
     "iopub.status.busy": "2022-10-05T16:45:01.843402Z",
     "iopub.status.idle": "2022-10-05T16:45:02.669254Z",
     "shell.execute_reply": "2022-10-05T16:45:02.668345Z"
    },
    "papermill": {
     "duration": 0.893662,
     "end_time": "2022-10-05T16:45:02.671988",
     "exception": false,
     "start_time": "2022-10-05T16:45:01.778326",
     "status": "completed"
    },
    "tags": []
   },
   "outputs": [
    {
     "data": {
      "image/png": "[encoded data removed]",
      "text/plain": [
       "<Figure size 2000x500 with 5 Axes>"
      ]
     },
     "metadata": {},
     "output_type": "display_data"
    }
   ],
   "source": [
    "#%% PLOTTING RESULTS (Train vs Validation FOLDER 1)\n",
    "\n",
    "def Train_Val_Plot(acc,val_acc,loss,val_loss,auc,val_auc,precision,val_precision,f1,val_f1):\n",
    "    \n",
    "    fig, (ax1, ax2,ax3,ax4,ax5) = plt.subplots(1,5, figsize= (20,5))\n",
    "    fig.suptitle(\" MODEL'S METRICS VISUALIZATION \")\n",
    "\n",
    "    ax1.plot(range(1, len(acc) + 1), acc)\n",
    "    ax1.plot(range(1, len(val_acc) + 1), val_acc)\n",
    "    ax1.set_title('History of Accuracy')\n",
    "    ax1.set_xlabel('Epochs')\n",
    "    ax1.set_ylabel('Accuracy')\n",
    "    ax1.legend(['training', 'validation'])\n",
    "\n",
    "\n",
    "    ax2.plot(range(1, len(loss) + 1), loss)\n",
    "    ax2.plot(range(1, len(val_loss) + 1), val_loss)\n",
    "    ax2.set_title('History of Loss')\n",
    "    ax2.set_xlabel('Epochs')\n",
    "    ax2.set_ylabel('Loss')\n",
    "    ax2.legend(['training', 'validation'])\n",
    "    \n",
    "    ax3.plot(range(1, len(auc) + 1), auc)\n",
    "    ax3.plot(range(1, len(val_auc) + 1), val_auc)\n",
    "    ax3.set_title('History of AUC')\n",
    "    ax3.set_xlabel('Epochs')\n",
    "    ax3.set_ylabel('AUC')\n",
    "    ax3.legend(['training', 'validation'])\n",
    "    \n",
    "    ax4.plot(range(1, len(precision) + 1), precision)\n",
    "    ax4.plot(range(1, len(val_precision) + 1), val_precision)\n",
    "    ax4.set_title('History of Precision')\n",
    "    ax4.set_xlabel('Epochs')\n",
    "    ax4.set_ylabel('Precision')\n",
    "    ax4.legend(['training', 'validation'])\n",
    "    \n",
    "    ax5.plot(range(1, len(f1) + 1), f1)\n",
    "    ax5.plot(range(1, len(val_f1) + 1), val_f1)\n",
    "    ax5.set_title('History of F1-score')\n",
    "    ax5.set_xlabel('Epochs')\n",
    "    ax5.set_ylabel('F1 score')\n",
    "    ax5.legend(['training', 'validation'])\n",
    "\n",
    "\n",
    "    plt.show()\n",
    "    \n",
    "\n",
    "Train_Val_Plot(history.history['accuracy'],history.history['val_accuracy'],\n",
    "               history.history['loss'],history.history['val_loss'],\n",
    "               history.history['auc'],history.history['val_auc'],\n",
    "               history.history['precision'],history.history['val_precision'],\n",
    "               history.history['f1_score'],history.history['val_f1_score']\n",
    "              )"
   ]
  },
  {
   "cell_type": "code",
   "execution_count": 17,
   "id": "11dbcc12",
   "metadata": {
    "execution": {
     "iopub.execute_input": "2022-10-05T16:45:02.792261Z",
     "iopub.status.busy": "2022-10-05T16:45:02.791932Z",
     "iopub.status.idle": "2022-10-05T16:45:08.168493Z",
     "shell.execute_reply": "2022-10-05T16:45:08.167251Z"
    },
    "papermill": {
     "duration": 5.439343,
     "end_time": "2022-10-05T16:45:08.170810",
     "exception": false,
     "start_time": "2022-10-05T16:45:02.731467",
     "status": "completed"
    },
    "tags": []
   },
   "outputs": [
    {
     "name": "stdout",
     "output_type": "stream",
     "text": [
      "19/19 [==============================] - 8s 436ms/step - loss: 0.8713 - accuracy: 0.7839 - precision: 0.7097 - recall: 0.5950 - auc: 0.8094 - f1_score: 0.6474\n"
     ]
    }
   ],
   "source": [
    "scores = model.evaluate(test_dataset)"
   ]
  },
  {
   "cell_type": "code",
   "execution_count": 18,
   "id": "6bc04d3d",
   "metadata": {
    "execution": {
     "iopub.execute_input": "2022-10-05T16:45:08.291676Z",
     "iopub.status.busy": "2022-10-05T16:45:08.290810Z",
     "iopub.status.idle": "2022-10-05T16:45:08.297918Z",
     "shell.execute_reply": "2022-10-05T16:45:08.296306Z"
    },
    "papermill": {
     "duration": 0.069651,
     "end_time": "2022-10-05T16:45:08.300500",
     "exception": false,
     "start_time": "2022-10-05T16:45:08.230849",
     "status": "completed"
    },
    "tags": []
   },
   "outputs": [
    {
     "name": "stdout",
     "output_type": "stream",
     "text": [
      "Accuracy =  0.7838888764381409\n",
      "Precision =  0.7097415328025818\n",
      "Recall =  0.5950000286102295\n",
      "AUC =  0.8093819618225098\n",
      "F1_score =  0.6474266648292542\n"
     ]
    }
   ],
   "source": [
    "print(\"Accuracy = \", scores[1])\n",
    "print(\"Precision = \", scores[2])\n",
    "print(\"Recall = \", scores[3])\n",
    "print(\"AUC = \", scores[4])\n",
    "print(\"F1_score = \", scores[5])"
   ]
  },
  {
   "cell_type": "code",
   "execution_count": null,
   "id": "849b6d08",
   "metadata": {
    "papermill": {
     "duration": 0.058827,
     "end_time": "2022-10-05T16:45:08.419092",
     "exception": false,
     "start_time": "2022-10-05T16:45:08.360265",
     "status": "completed"
    },
    "tags": []
   },
   "outputs": [],
   "source": []
  }
 ],
 "metadata": {
  "kernelspec": {
   "display_name": "Python 3 (ipykernel)",
   "language": "python",
   "name": "python3"
  },
  "language_info": {
   "codemirror_mode": {
    "name": "ipython",
    "version": 3
   },
   "file_extension": ".py",
   "mimetype": "text/x-python",
   "name": "python",
   "nbconvert_exporter": "python",
   "pygments_lexer": "ipython3",
   "version": "3.10.9"
  },
  "papermill": {
   "default_parameters": {},
   "duration": 449.521889,
   "end_time": "2022-10-05T16:45:11.756569",
   "environment_variables": {},
   "exception": null,
   "input_path": "__notebook__.ipynb",
   "output_path": "__notebook__.ipynb",
   "parameters": {},
   "start_time": "2022-10-05T16:37:42.234680",
   "version": "2.3.4"
  }
 },
 "nbformat": 4,
 "nbformat_minor": 5
}

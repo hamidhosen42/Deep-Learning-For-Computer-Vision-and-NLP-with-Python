{
 "cells": [
  {
   "cell_type": "markdown",
   "id": "dc16be12",
   "metadata": {
    "papermill": {
     "duration": 0.011688,
     "end_time": "2023-03-23T13:45:48.651592",
     "exception": false,
     "start_time": "2023-03-23T13:45:48.639904",
     "status": "completed"
    },
    "tags": []
   },
   "source": [
    "**Barplot**\n",
    "\n",
    "A barplot shows the relationship between a numeric and a categoric variable. Each entity of the categoric variable is represented as a bar. The size of the bar represents its numeric value"
   ]
  },
  {
   "cell_type": "markdown",
   "id": "53d900c6",
   "metadata": {
    "papermill": {
     "duration": 0.011476,
     "end_time": "2023-03-23T13:45:48.673588",
     "exception": false,
     "start_time": "2023-03-23T13:45:48.662112",
     "status": "completed"
    },
    "tags": []
   },
   "source": [
    "[Reference](https://www.python-graph-gallery.com/barplot/)"
   ]
  },
  {
   "cell_type": "markdown",
   "id": "22e49076",
   "metadata": {
    "papermill": {
     "duration": 0.013086,
     "end_time": "2023-03-23T13:45:48.699585",
     "exception": false,
     "start_time": "2023-03-23T13:45:48.686499",
     "status": "completed"
    },
    "tags": []
   },
   "source": [
    "**Basic Barplot using Matplotlib**\n",
    "\n",
    "This example shows probably the most basic barplot you can do with python and matplotlib. The bar() function used with the following parameters:\n",
    "\n",
    "> x : The x coordinates of the bars. (x_pos in the example)\n",
    "\n",
    "> height : The height(s) of the bars."
   ]
  },
  {
   "cell_type": "code",
   "execution_count": 1,
   "id": "ce084dc8",
   "metadata": {
    "execution": {
     "iopub.execute_input": "2023-03-23T13:45:48.728494Z",
     "iopub.status.busy": "2023-03-23T13:45:48.727537Z",
     "iopub.status.idle": "2023-03-23T13:45:48.746186Z",
     "shell.execute_reply": "2023-03-23T13:45:48.744963Z"
    },
    "papermill": {
     "duration": 0.03477,
     "end_time": "2023-03-23T13:45:48.748757",
     "exception": false,
     "start_time": "2023-03-23T13:45:48.713987",
     "status": "completed"
    },
    "tags": []
   },
   "outputs": [
    {
     "data": {
      "text/plain": [
       "array([0, 1, 2, 3, 4])"
      ]
     },
     "execution_count": 1,
     "metadata": {},
     "output_type": "execute_result"
    }
   ],
   "source": [
    "# Libraries\n",
    "import numpy as np\n",
    "import matplotlib.pyplot as plt\n",
    " \n",
    "# Create dataset\n",
    "height = [3, 12, 5, 18, 45]\n",
    "bars = ('A', 'B', 'C', 'D', 'E')\n",
    "x_pos = np.arange(len(bars))\n",
    "x_pos"
   ]
  },
  {
   "cell_type": "code",
   "execution_count": 2,
   "id": "a274caaf",
   "metadata": {
    "execution": {
     "iopub.execute_input": "2023-03-23T13:45:48.771472Z",
     "iopub.status.busy": "2023-03-23T13:45:48.771033Z",
     "iopub.status.idle": "2023-03-23T13:45:48.967406Z",
     "shell.execute_reply": "2023-03-23T13:45:48.966023Z"
    },
    "papermill": {
     "duration": 0.211239,
     "end_time": "2023-03-23T13:45:48.970257",
     "exception": false,
     "start_time": "2023-03-23T13:45:48.759018",
     "status": "completed"
    },
    "tags": []
   },
   "outputs": [
    {
     "data": {
      "image/png": "[encoded data removed]",
      "text/plain": [
       "<Figure size 640x480 with 1 Axes>"
      ]
     },
     "metadata": {},
     "output_type": "display_data"
    }
   ],
   "source": [
    "#create bars\n",
    "#bar(x, height, width=0.8, bottom=None, *, align='center', data=None, **kwargs)\n",
    "plt.bar(x_pos,height)\n",
    "\n",
    "# Create names on the x-axis\n",
    "plt.xticks(x_pos,bars)\n",
    "plt.show()"
   ]
  },
  {
   "cell_type": "markdown",
   "id": "60ab0e33",
   "metadata": {
    "papermill": {
     "duration": 0.010164,
     "end_time": "2023-03-23T13:45:48.990713",
     "exception": false,
     "start_time": "2023-03-23T13:45:48.980549",
     "status": "completed"
    },
    "tags": []
   },
   "source": [
    "**Plotting a Horizontal Barplot using Matplotlib**"
   ]
  },
  {
   "cell_type": "markdown",
   "id": "0b0b83c2",
   "metadata": {
    "papermill": {
     "duration": 0.010988,
     "end_time": "2023-03-23T13:45:49.011831",
     "exception": false,
     "start_time": "2023-03-23T13:45:49.000843",
     "status": "completed"
    },
    "tags": []
   },
   "source": [
    "**Most Basic**\n",
    "\n",
    "Building a horizontal barplot with matplotlib follows pretty much the same process as a vertical barplot. The only difference is that the barh() function must be used instead of the bar() function. Here is a basic example."
   ]
  },
  {
   "cell_type": "code",
   "execution_count": 3,
   "id": "00f7353b",
   "metadata": {
    "execution": {
     "iopub.execute_input": "2023-03-23T13:45:49.035354Z",
     "iopub.status.busy": "2023-03-23T13:45:49.034595Z",
     "iopub.status.idle": "2023-03-23T13:45:49.202054Z",
     "shell.execute_reply": "2023-03-23T13:45:49.200796Z"
    },
    "papermill": {
     "duration": 0.181895,
     "end_time": "2023-03-23T13:45:49.204601",
     "exception": false,
     "start_time": "2023-03-23T13:45:49.022706",
     "status": "completed"
    },
    "tags": []
   },
   "outputs": [
    {
     "data": {
      "image/png": "[encoded data removed]",
      "text/plain": [
       "<Figure size 640x480 with 1 Axes>"
      ]
     },
     "metadata": {},
     "output_type": "display_data"
    }
   ],
   "source": [
    "# libraries\n",
    "import matplotlib.pyplot as plt\n",
    "import numpy as np\n",
    "\n",
    "# create dataset\n",
    "height = [3, 12, 5, 18, 45]\n",
    "bars = ('A', 'B', 'C', 'D', 'E')\n",
    "y_pos = np.arange(len(bars))\n",
    " \n",
    "# Create horizontal bars\n",
    "plt.barh(y_pos, height)\n",
    " \n",
    "# Create names on the x-axis\n",
    "plt.yticks(y_pos, bars)\n",
    " \n",
    "# Show graphic\n",
    "plt.show()"
   ]
  },
  {
   "cell_type": "markdown",
   "id": "ed844b80",
   "metadata": {
    "papermill": {
     "duration": 0.0103,
     "end_time": "2023-03-23T13:45:49.228954",
     "exception": false,
     "start_time": "2023-03-23T13:45:49.218654",
     "status": "completed"
    },
    "tags": []
   },
   "source": [
    "**From Pandas dataframe**"
   ]
  },
  {
   "cell_type": "code",
   "execution_count": 4,
   "id": "bca70238",
   "metadata": {
    "execution": {
     "iopub.execute_input": "2023-03-23T13:45:49.252051Z",
     "iopub.status.busy": "2023-03-23T13:45:49.251609Z",
     "iopub.status.idle": "2023-03-23T13:45:49.276893Z",
     "shell.execute_reply": "2023-03-23T13:45:49.275705Z"
    },
    "papermill": {
     "duration": 0.040094,
     "end_time": "2023-03-23T13:45:49.279547",
     "exception": false,
     "start_time": "2023-03-23T13:45:49.239453",
     "status": "completed"
    },
    "tags": []
   },
   "outputs": [
    {
     "data": {
      "text/html": [
       "<div>\n",
       "<style scoped>\n",
       "    .dataframe tbody tr th:only-of-type {\n",
       "        vertical-align: middle;\n",
       "    }\n",
       "\n",
       "    .dataframe tbody tr th {\n",
       "        vertical-align: top;\n",
       "    }\n",
       "\n",
       "    .dataframe thead th {\n",
       "        text-align: right;\n",
       "    }\n",
       "</style>\n",
       "<table border=\"1\" class=\"dataframe\">\n",
       "  <thead>\n",
       "    <tr style=\"text-align: right;\">\n",
       "      <th></th>\n",
       "      <th>Group</th>\n",
       "      <th>Value</th>\n",
       "    </tr>\n",
       "  </thead>\n",
       "  <tbody>\n",
       "    <tr>\n",
       "      <th>0</th>\n",
       "      <td>A</td>\n",
       "      <td>1</td>\n",
       "    </tr>\n",
       "    <tr>\n",
       "      <th>1</th>\n",
       "      <td>B</td>\n",
       "      <td>5</td>\n",
       "    </tr>\n",
       "    <tr>\n",
       "      <th>2</th>\n",
       "      <td>C</td>\n",
       "      <td>4</td>\n",
       "    </tr>\n",
       "    <tr>\n",
       "      <th>3</th>\n",
       "      <td>D</td>\n",
       "      <td>3</td>\n",
       "    </tr>\n",
       "    <tr>\n",
       "      <th>4</th>\n",
       "      <td>E</td>\n",
       "      <td>9</td>\n",
       "    </tr>\n",
       "  </tbody>\n",
       "</table>\n",
       "</div>"
      ],
      "text/plain": [
       "  Group  Value\n",
       "0     A      1\n",
       "1     B      5\n",
       "2     C      4\n",
       "3     D      3\n",
       "4     E      9"
      ]
     },
     "execution_count": 4,
     "metadata": {},
     "output_type": "execute_result"
    }
   ],
   "source": [
    "# import libraries\n",
    "import pandas as pd\n",
    "import matplotlib.pyplot as plt\n",
    "\n",
    "# Create a data frame\n",
    "df = pd.DataFrame ({\n",
    "        'Group':  ['A', 'B', 'C', 'D', 'E'],\n",
    "        'Value': [1,5,4,3,9]\n",
    "})\n",
    "df"
   ]
  },
  {
   "cell_type": "code",
   "execution_count": 5,
   "id": "1eafaca3",
   "metadata": {
    "execution": {
     "iopub.execute_input": "2023-03-23T13:45:49.303601Z",
     "iopub.status.busy": "2023-03-23T13:45:49.303163Z",
     "iopub.status.idle": "2023-03-23T13:45:49.494987Z",
     "shell.execute_reply": "2023-03-23T13:45:49.493897Z"
    },
    "papermill": {
     "duration": 0.206983,
     "end_time": "2023-03-23T13:45:49.497695",
     "exception": false,
     "start_time": "2023-03-23T13:45:49.290712",
     "status": "completed"
    },
    "tags": []
   },
   "outputs": [
    {
     "data": {
      "image/png": "[encoded data removed]",
      "text/plain": [
       "<Figure size 640x480 with 1 Axes>"
      ]
     },
     "metadata": {},
     "output_type": "display_data"
    }
   ],
   "source": [
    "# Create horizontal bars\n",
    "plt.barh(y=df.Group, width=df.Value);"
   ]
  },
  {
   "cell_type": "markdown",
   "id": "6b14c5f2",
   "metadata": {
    "papermill": {
     "duration": 0.010962,
     "end_time": "2023-03-23T13:45:49.519874",
     "exception": false,
     "start_time": "2023-03-23T13:45:49.508912",
     "status": "completed"
    },
    "tags": []
   },
   "source": [
    "**Control order**\n",
    "\n",
    "A bar chart is always more insightful when ordered. It allows to understand how items are ranked much quicker. You just have to sort the pandas dataframe upfront to sort the chart:"
   ]
  },
  {
   "cell_type": "code",
   "execution_count": 6,
   "id": "6ff8f046",
   "metadata": {
    "execution": {
     "iopub.execute_input": "2023-03-23T13:45:49.548069Z",
     "iopub.status.busy": "2023-03-23T13:45:49.547537Z",
     "iopub.status.idle": "2023-03-23T13:45:49.706797Z",
     "shell.execute_reply": "2023-03-23T13:45:49.705792Z"
    },
    "papermill": {
     "duration": 0.175266,
     "end_time": "2023-03-23T13:45:49.709249",
     "exception": false,
     "start_time": "2023-03-23T13:45:49.533983",
     "status": "completed"
    },
    "tags": []
   },
   "outputs": [
    {
     "data": {
      "image/png": "[encoded data removed]",
      "text/plain": [
       "<Figure size 640x480 with 1 Axes>"
      ]
     },
     "metadata": {},
     "output_type": "display_data"
    }
   ],
   "source": [
    "import pandas as pd\n",
    "import matplotlib.pyplot as plt\n",
    "\n",
    "# Create a data frame\n",
    "df = pd.DataFrame ({\n",
    "        'Group':  ['A', 'B', 'C', 'D', 'E'],\n",
    "        'Value': [1,5,4,3,9]\n",
    "})\n",
    "\n",
    "# Sort the table\n",
    "df = df.sort_values(by=['Value'])\n",
    "\n",
    "# Create horizontal bars\n",
    "plt.barh(y=df.Group, width=df.Value);\n",
    "\n",
    "# Add title\n",
    "plt.title('A simple barplot');"
   ]
  },
  {
   "cell_type": "markdown",
   "id": "a7ba3e43",
   "metadata": {
    "papermill": {
     "duration": 0.011515,
     "end_time": "2023-03-23T13:45:49.732428",
     "exception": false,
     "start_time": "2023-03-23T13:45:49.720913",
     "status": "completed"
    },
    "tags": []
   },
   "source": [
    "**Object-oriented API**"
   ]
  },
  {
   "cell_type": "code",
   "execution_count": 7,
   "id": "26e094c3",
   "metadata": {
    "execution": {
     "iopub.execute_input": "2023-03-23T13:45:49.758339Z",
     "iopub.status.busy": "2023-03-23T13:45:49.757176Z",
     "iopub.status.idle": "2023-03-23T13:45:49.981981Z",
     "shell.execute_reply": "2023-03-23T13:45:49.980899Z"
    },
    "papermill": {
     "duration": 0.240154,
     "end_time": "2023-03-23T13:45:49.984182",
     "exception": false,
     "start_time": "2023-03-23T13:45:49.744028",
     "status": "completed"
    },
    "tags": []
   },
   "outputs": [
    {
     "data": {
      "image/png": "[encoded data removed]",
      "text/plain": [
       "<Figure size 900x900 with 1 Axes>"
      ]
     },
     "metadata": {},
     "output_type": "display_data"
    }
   ],
   "source": [
    "import pandas as pd\n",
    "import matplotlib.pyplot as plt\n",
    "\n",
    "\n",
    "# Create a data frame\n",
    "df = pd.DataFrame ({\n",
    "        'Group':  ['A', 'B', 'C', 'D', 'E'],\n",
    "        'Value': [1,5,4,3,9]\n",
    "})\n",
    "\n",
    "# Initialize a Figure and an Axes\n",
    "fig, ax = plt.subplots()\n",
    "\n",
    "# Fig size\n",
    "fig.set_size_inches(9,9)\n",
    "\n",
    "# Create horizontal bars\n",
    "ax.barh(y=df.Group, width=df.Value);\n",
    "\n",
    "# Add title\n",
    "ax.set_title('A simple barplot');"
   ]
  },
  {
   "cell_type": "markdown",
   "id": "3eb63850",
   "metadata": {
    "papermill": {
     "duration": 0.01101,
     "end_time": "2023-03-23T13:45:50.006652",
     "exception": false,
     "start_time": "2023-03-23T13:45:49.995642",
     "status": "completed"
    },
    "tags": []
   },
   "source": [
    "**Control the color of barplots built with matplotlib**\n",
    "\n",
    "You can change the color of bars in a barplot using color argument.\n",
    "RGB is a way of making colors. You have to to provide an amount of red, green, blue, and the transparency value to the color argument and it returns a color."
   ]
  },
  {
   "cell_type": "code",
   "execution_count": 8,
   "id": "b26c4653",
   "metadata": {
    "execution": {
     "iopub.execute_input": "2023-03-23T13:45:50.032568Z",
     "iopub.status.busy": "2023-03-23T13:45:50.032082Z",
     "iopub.status.idle": "2023-03-23T13:45:50.312623Z",
     "shell.execute_reply": "2023-03-23T13:45:50.311791Z"
    },
    "papermill": {
     "duration": 0.29604,
     "end_time": "2023-03-23T13:45:50.314695",
     "exception": false,
     "start_time": "2023-03-23T13:45:50.018655",
     "status": "completed"
    },
    "tags": []
   },
   "outputs": [
    {
     "data": {
      "image/png": "[encoded data removed]",
      "text/plain": [
       "<Figure size 640x480 with 1 Axes>"
      ]
     },
     "metadata": {},
     "output_type": "display_data"
    }
   ],
   "source": [
    "# libraries\n",
    "import numpy as np\n",
    "import matplotlib.pyplot as plt\n",
    " \n",
    "# create a dataset\n",
    "height = [3, 12, 5, 18, 45]\n",
    "bars = ('A', 'B', 'C', 'D', 'E')\n",
    "x_pos = np.arange(len(bars))\n",
    "\n",
    "# Create bars\n",
    "plt.bar(x_pos, height, color=(0.2, 0.4, 0.6, 0.6))\n",
    "\n",
    "# Create names on the x-axis\n",
    "plt.xticks(x_pos, bars)\n",
    "\n",
    "# Show graph\n",
    "plt.show()"
   ]
  },
  {
   "cell_type": "markdown",
   "id": "63a35f93",
   "metadata": {
    "papermill": {
     "duration": 0.011442,
     "end_time": "2023-03-23T13:45:50.337728",
     "exception": false,
     "start_time": "2023-03-23T13:45:50.326286",
     "status": "completed"
    },
    "tags": []
   },
   "source": [
    "**Different color for each bar**\n",
    "\n",
    "If you want to give different colors to each bar, just provide a list of color names to the color argument:"
   ]
  },
  {
   "cell_type": "code",
   "execution_count": 9,
   "id": "1f1301b7",
   "metadata": {
    "execution": {
     "iopub.execute_input": "2023-03-23T13:45:50.362892Z",
     "iopub.status.busy": "2023-03-23T13:45:50.361827Z",
     "iopub.status.idle": "2023-03-23T13:45:50.532185Z",
     "shell.execute_reply": "2023-03-23T13:45:50.531374Z"
    },
    "papermill": {
     "duration": 0.185424,
     "end_time": "2023-03-23T13:45:50.534587",
     "exception": false,
     "start_time": "2023-03-23T13:45:50.349163",
     "status": "completed"
    },
    "tags": []
   },
   "outputs": [
    {
     "data": {
      "image/png": "[encoded data removed]",
      "text/plain": [
       "<Figure size 640x480 with 1 Axes>"
      ]
     },
     "metadata": {},
     "output_type": "display_data"
    }
   ],
   "source": [
    "# libraries\n",
    "import numpy as np\n",
    "import matplotlib.pyplot as plt\n",
    " \n",
    "# create a dataset\n",
    "height = [3, 12, 5, 18, 45]\n",
    "bars = ('A', 'B', 'C', 'D', 'E')\n",
    "x_pos = np.arange(len(bars))\n",
    "\n",
    "# Create bars with different colors\n",
    "plt.bar(x_pos, height, color=['black', 'red', 'green', 'blue', 'cyan'])\n",
    "\n",
    "# Create names on the x-axis\n",
    "plt.xticks(x_pos, bars)\n",
    "\n",
    "# Show graph\n",
    "plt.show()"
   ]
  },
  {
   "cell_type": "markdown",
   "id": "31b24055",
   "metadata": {
    "papermill": {
     "duration": 0.011353,
     "end_time": "2023-03-23T13:45:50.557743",
     "exception": false,
     "start_time": "2023-03-23T13:45:50.546390",
     "status": "completed"
    },
    "tags": []
   },
   "source": [
    "**Control color of border**\n",
    "\n",
    "> The edgecolor argument allows you to color the borders of barplots."
   ]
  },
  {
   "cell_type": "code",
   "execution_count": 10,
   "id": "2fbbc448",
   "metadata": {
    "execution": {
     "iopub.execute_input": "2023-03-23T13:45:50.582559Z",
     "iopub.status.busy": "2023-03-23T13:45:50.582117Z",
     "iopub.status.idle": "2023-03-23T13:45:50.763018Z",
     "shell.execute_reply": "2023-03-23T13:45:50.762183Z"
    },
    "papermill": {
     "duration": 0.196154,
     "end_time": "2023-03-23T13:45:50.765425",
     "exception": false,
     "start_time": "2023-03-23T13:45:50.569271",
     "status": "completed"
    },
    "tags": []
   },
   "outputs": [
    {
     "data": {
      "image/png": "[encoded data removed]",
      "text/plain": [
       "<Figure size 640x480 with 1 Axes>"
      ]
     },
     "metadata": {},
     "output_type": "display_data"
    }
   ],
   "source": [
    "# libraries\n",
    "import numpy as np\n",
    "import matplotlib.pyplot as plt\n",
    " \n",
    "# create a dataset\n",
    "height = [3, 12, 5, 18, 45]\n",
    "bars = ('A', 'B', 'C', 'D', 'E')\n",
    "x_pos = np.arange(len(bars))\n",
    "\n",
    "# Create bars with blue edge color\n",
    "plt.bar(x_pos, height, color=(0.1, 0.1, 0.1, 0.1),  edgecolor='blue')\n",
    "\n",
    "# Create names on the x-axis\n",
    "plt.xticks(x_pos, bars)\n",
    "\n",
    "# Show graph\n",
    "plt.show()"
   ]
  },
  {
   "cell_type": "markdown",
   "id": "4addcd17",
   "metadata": {
    "papermill": {
     "duration": 0.012871,
     "end_time": "2023-03-23T13:45:50.797047",
     "exception": false,
     "start_time": "2023-03-23T13:45:50.784176",
     "status": "completed"
    },
    "tags": []
   },
   "source": [
    "**Add a title and axis labels to your charts using matplotlib**\n",
    "\n",
    "> In the following example, title, x label and y label are added to the barplot using the title(), xlabel(), and ylabel() functions of the matplotlib library."
   ]
  },
  {
   "cell_type": "code",
   "execution_count": 11,
   "id": "6e9a0c93",
   "metadata": {
    "execution": {
     "iopub.execute_input": "2023-03-23T13:45:50.822899Z",
     "iopub.status.busy": "2023-03-23T13:45:50.822485Z",
     "iopub.status.idle": "2023-03-23T13:45:51.011953Z",
     "shell.execute_reply": "2023-03-23T13:45:51.010803Z"
    },
    "papermill": {
     "duration": 0.205144,
     "end_time": "2023-03-23T13:45:51.014256",
     "exception": false,
     "start_time": "2023-03-23T13:45:50.809112",
     "status": "completed"
    },
    "tags": []
   },
   "outputs": [
    {
     "data": {
      "image/png": "[encoded data removed]",
      "text/plain": [
       "<Figure size 640x480 with 1 Axes>"
      ]
     },
     "metadata": {},
     "output_type": "display_data"
    }
   ],
   "source": [
    "# libraries\n",
    "import numpy as np\n",
    "import matplotlib.pyplot as plt\n",
    " \n",
    "# create dataset\n",
    "height = [3, 12, 5, 18, 45]\n",
    "bars = ('A', 'B', 'C', 'D', 'E')\n",
    "x_pos = np.arange(len(bars))\n",
    " \n",
    "# Create bars and choose color\n",
    "plt.bar(bars, height, color = (0.5,0.1,0.5,0.6))\n",
    " \n",
    "# Add title and axis names\n",
    "plt.title('My title')\n",
    "plt.xlabel('categories')\n",
    "plt.ylabel('values')\n",
    " \n",
    "# Create names on the x axis\n",
    "# plt.xticks(x_pos, bars)\n",
    " \n",
    "# Show graph\n",
    "plt.show()"
   ]
  },
  {
   "cell_type": "code",
   "execution_count": 12,
   "id": "14288d32",
   "metadata": {
    "execution": {
     "iopub.execute_input": "2023-03-23T13:45:51.041438Z",
     "iopub.status.busy": "2023-03-23T13:45:51.040995Z",
     "iopub.status.idle": "2023-03-23T13:45:51.240590Z",
     "shell.execute_reply": "2023-03-23T13:45:51.239578Z"
    },
    "papermill": {
     "duration": 0.216061,
     "end_time": "2023-03-23T13:45:51.242974",
     "exception": false,
     "start_time": "2023-03-23T13:45:51.026913",
     "status": "completed"
    },
    "tags": []
   },
   "outputs": [
    {
     "data": {
      "image/png": "[encoded data removed]",
      "text/plain": [
       "<Figure size 640x480 with 1 Axes>"
      ]
     },
     "metadata": {},
     "output_type": "display_data"
    }
   ],
   "source": [
    "# libraries\n",
    "import numpy as np\n",
    "import matplotlib.pyplot as plt\n",
    " \n",
    "# create dataset\n",
    "height = [3, 12, 5, 18, 45]\n",
    "bars = ('A', 'B', 'C', 'D', 'E')\n",
    "x_pos = np.arange(len(bars))\n",
    " \n",
    "# Create bars and choose color\n",
    "plt.bar(x_pos, height, color = (0.5,0.1,0.5,0.6))\n",
    " \n",
    "# Add title and axis names\n",
    "plt.title('My title')\n",
    "plt.xlabel('categories')\n",
    "plt.ylabel('values')\n",
    " \n",
    "# Create names on the x axis\n",
    "plt.xticks(x_pos, bars)\n",
    " \n",
    "# Show graph\n",
    "plt.show()"
   ]
  },
  {
   "cell_type": "markdown",
   "id": "f9348aef",
   "metadata": {
    "papermill": {
     "duration": 0.012652,
     "end_time": "2023-03-23T13:45:51.268550",
     "exception": false,
     "start_time": "2023-03-23T13:45:51.255898",
     "status": "completed"
    },
    "tags": []
   },
   "source": [
    "**Control width and space in barplots using matplotlib**"
   ]
  },
  {
   "cell_type": "code",
   "execution_count": 13,
   "id": "4de35e89",
   "metadata": {
    "execution": {
     "iopub.execute_input": "2023-03-23T13:45:51.297578Z",
     "iopub.status.busy": "2023-03-23T13:45:51.297172Z",
     "iopub.status.idle": "2023-03-23T13:45:51.470105Z",
     "shell.execute_reply": "2023-03-23T13:45:51.469271Z"
    },
    "papermill": {
     "duration": 0.190254,
     "end_time": "2023-03-23T13:45:51.472222",
     "exception": false,
     "start_time": "2023-03-23T13:45:51.281968",
     "status": "completed"
    },
    "tags": []
   },
   "outputs": [
    {
     "data": {
      "image/png": "[encoded data removed]",
      "text/plain": [
       "<Figure size 640x480 with 1 Axes>"
      ]
     },
     "metadata": {},
     "output_type": "display_data"
    }
   ],
   "source": [
    "# library\n",
    "import matplotlib.pyplot as plt\n",
    " \n",
    "# create dataset\n",
    "height = [3, 12, 5, 18, 45]\n",
    "bars = ('A', 'B', 'C', 'D', 'E')\n",
    " \n",
    "# Choose the position of each barplots on the x-axis (space=1,4,3,1)\n",
    "x_pos = [0,1,5,8,9]\n",
    " \n",
    "# Create bars\n",
    "plt.bar(x_pos, height)\n",
    " \n",
    "# Create names on the x-axis\n",
    "plt.xticks(x_pos, bars)\n",
    " \n",
    "# Show graphic\n",
    "plt.show()"
   ]
  },
  {
   "cell_type": "markdown",
   "id": "8518e51c",
   "metadata": {
    "papermill": {
     "duration": 0.012395,
     "end_time": "2023-03-23T13:45:51.497670",
     "exception": false,
     "start_time": "2023-03-23T13:45:51.485275",
     "status": "completed"
    },
    "tags": []
   },
   "source": [
    "**Control Width**\n",
    "\n",
    "The width of the bars can be controlled by width argument of the bar() function."
   ]
  },
  {
   "cell_type": "code",
   "execution_count": 14,
   "id": "84d5bdb1",
   "metadata": {
    "execution": {
     "iopub.execute_input": "2023-03-23T13:45:51.525976Z",
     "iopub.status.busy": "2023-03-23T13:45:51.525197Z",
     "iopub.status.idle": "2023-03-23T13:45:51.699356Z",
     "shell.execute_reply": "2023-03-23T13:45:51.698484Z"
    },
    "papermill": {
     "duration": 0.191153,
     "end_time": "2023-03-23T13:45:51.701662",
     "exception": false,
     "start_time": "2023-03-23T13:45:51.510509",
     "status": "completed"
    },
    "tags": []
   },
   "outputs": [
    {
     "data": {
      "image/png": "[encoded data removed]",
      "text/plain": [
       "<Figure size 640x480 with 1 Axes>"
      ]
     },
     "metadata": {},
     "output_type": "display_data"
    }
   ],
   "source": [
    "# library\n",
    "import matplotlib.pyplot as plt\n",
    " \n",
    "# create dataset\n",
    "height = [3, 12, 5, 18, 45]\n",
    "bars = ('A', 'B', 'C', 'D', 'E')\n",
    "\n",
    "# Choose the width of each bar and their positions\n",
    "width = [0.1,0.2,3,1.5,0.3]\n",
    "x_pos = [0,0.3,2,4.5,5.5]\n",
    " \n",
    "# Make the plot\n",
    "plt.bar(x_pos, height, width=width)\n",
    "\n",
    "# Create names on the x-axis\n",
    "plt.xticks(x_pos, bars)\n",
    " \n",
    "# Show graphic\n",
    "plt.show()"
   ]
  },
  {
   "cell_type": "markdown",
   "id": "518c8928",
   "metadata": {
    "papermill": {
     "duration": 0.012677,
     "end_time": "2023-03-23T13:45:51.727470",
     "exception": false,
     "start_time": "2023-03-23T13:45:51.714793",
     "status": "completed"
    },
    "tags": []
   },
   "source": [
    "**Custom barplot layout**\n",
    "\n",
    "You can change the color of x and y axis labels using color argument in the xticks() and yticks() functions. The parameters in the xticks() function in the following example are:\n",
    "\n",
    "> x_pos : A list of positions at which ticks should be placed.\n",
    "\n",
    "> bars : A list of explicit labels to place.\n",
    "\n",
    "> color : Color of the labels."
   ]
  },
  {
   "cell_type": "code",
   "execution_count": 15,
   "id": "7f14d409",
   "metadata": {
    "execution": {
     "iopub.execute_input": "2023-03-23T13:45:51.755446Z",
     "iopub.status.busy": "2023-03-23T13:45:51.754990Z",
     "iopub.status.idle": "2023-03-23T13:45:51.946397Z",
     "shell.execute_reply": "2023-03-23T13:45:51.945230Z"
    },
    "papermill": {
     "duration": 0.208834,
     "end_time": "2023-03-23T13:45:51.949289",
     "exception": false,
     "start_time": "2023-03-23T13:45:51.740455",
     "status": "completed"
    },
    "tags": []
   },
   "outputs": [
    {
     "data": {
      "image/png": "[encoded data removed]",
      "text/plain": [
       "<Figure size 640x480 with 1 Axes>"
      ]
     },
     "metadata": {},
     "output_type": "display_data"
    }
   ],
   "source": [
    "# libraries\n",
    "import numpy as np\n",
    "import matplotlib.pyplot as plt\n",
    "\n",
    "# Choose the height of the bars\n",
    "height = [3, 12, 5, 18, 45]\n",
    "\n",
    "# Choose the names of the bars\n",
    "bars = ('group1', 'group2', 'group3', 'group4', 'group5')\n",
    "x_pos = np.arange(len(bars))\n",
    "\n",
    "# Create bars\n",
    "plt.bar(x_pos, height)\n",
    "\n",
    "# Create names on the x-axis\n",
    "plt.xticks(x_pos, bars, color='orange')\n",
    "plt.yticks(color='orange')\n",
    "\n",
    "# Show graphic\n",
    "plt.show()"
   ]
  },
  {
   "cell_type": "markdown",
   "id": "1b25db11",
   "metadata": {
    "papermill": {
     "duration": 0.014017,
     "end_time": "2023-03-23T13:45:51.977304",
     "exception": false,
     "start_time": "2023-03-23T13:45:51.963287",
     "status": "completed"
    },
    "tags": []
   },
   "source": [
    "**Axis Title**\n",
    "\n",
    "> You can add a title(label) to the x axis and y axis of the plot using xlabel() and ylabel() functions."
   ]
  },
  {
   "cell_type": "code",
   "execution_count": 16,
   "id": "8fd3e925",
   "metadata": {
    "execution": {
     "iopub.execute_input": "2023-03-23T13:45:52.006790Z",
     "iopub.status.busy": "2023-03-23T13:45:52.006102Z",
     "iopub.status.idle": "2023-03-23T13:45:52.191270Z",
     "shell.execute_reply": "2023-03-23T13:45:52.190058Z"
    },
    "papermill": {
     "duration": 0.202759,
     "end_time": "2023-03-23T13:45:52.193689",
     "exception": false,
     "start_time": "2023-03-23T13:45:51.990930",
     "status": "completed"
    },
    "tags": []
   },
   "outputs": [
    {
     "data": {
      "image/png": "[encoded data removed]",
      "text/plain": [
       "<Figure size 640x480 with 1 Axes>"
      ]
     },
     "metadata": {},
     "output_type": "display_data"
    }
   ],
   "source": [
    "# libraries\n",
    "import numpy as np\n",
    "import matplotlib.pyplot as plt\n",
    " \n",
    "# Create data\n",
    "height = [3, 12, 5, 18, 45]\n",
    "bars = ('A','B','C','D','E')\n",
    "x_pos = np.arange(len(bars))\n",
    " \n",
    "# Create bars\n",
    "plt.bar(x_pos, height)\n",
    " \n",
    "# Create names on the x-axis\n",
    "plt.xticks(x_pos, bars)\n",
    "\n",
    "# \n",
    "plt.xlabel('category', fontweight='bold', color = 'orange', fontsize='18')\n",
    " \n",
    "# Show graphic\n",
    "plt.show()"
   ]
  },
  {
   "cell_type": "markdown",
   "id": "33541ee7",
   "metadata": {
    "papermill": {
     "duration": 0.013507,
     "end_time": "2023-03-23T13:45:52.220651",
     "exception": false,
     "start_time": "2023-03-23T13:45:52.207144",
     "status": "completed"
    },
    "tags": []
   },
   "source": [
    "**Label Rotation and Figure Margins**\n",
    "\n",
    "> It is possible to rotate x and y tick labels using rotation argument in the xticks() and yticks() functions. You can also change the margins of your plot area by subplots_adjust() function."
   ]
  },
  {
   "cell_type": "code",
   "execution_count": 17,
   "id": "f8af097e",
   "metadata": {
    "execution": {
     "iopub.execute_input": "2023-03-23T13:45:52.249664Z",
     "iopub.status.busy": "2023-03-23T13:45:52.248700Z",
     "iopub.status.idle": "2023-03-23T13:45:52.393290Z",
     "shell.execute_reply": "2023-03-23T13:45:52.391618Z"
    },
    "papermill": {
     "duration": 0.162338,
     "end_time": "2023-03-23T13:45:52.396415",
     "exception": false,
     "start_time": "2023-03-23T13:45:52.234077",
     "status": "completed"
    },
    "tags": []
   },
   "outputs": [
    {
     "data": {
      "image/png": "[encoded data removed]",
      "text/plain": [
       "<Figure size 640x480 with 1 Axes>"
      ]
     },
     "metadata": {},
     "output_type": "display_data"
    }
   ],
   "source": [
    "# libraries\n",
    "import numpy as np\n",
    "import matplotlib.pyplot as plt\n",
    " \n",
    "# Create data\n",
    "height = [3, 12, 5, 18, 45]\n",
    "bars = (\"very long group name 1\",\"very long group name 2\",\"very long group name 3\",\"very long group name 4\",\"very long group name 5\")\n",
    "x_pos = np.arange(len(bars))\n",
    " \n",
    "# Create bars\n",
    "plt.bar(x_pos, height)\n",
    " \n",
    "# Rotation of the bar names\n",
    "plt.xticks(x_pos, bars, rotation=45)\n",
    " \n",
    "# Custom the subplot layout\n",
    "plt.subplots_adjust(bottom=0.4, top=0.99)\n",
    " \n",
    "# Show graphic\n",
    "plt.show()"
   ]
  },
  {
   "cell_type": "markdown",
   "id": "b057d602",
   "metadata": {
    "papermill": {
     "duration": 0.014414,
     "end_time": "2023-03-23T13:45:52.435717",
     "exception": false,
     "start_time": "2023-03-23T13:45:52.421303",
     "status": "completed"
    },
    "tags": []
   },
   "source": [
    "**Add confidence interval on barplot**\n",
    "\n"
   ]
  },
  {
   "cell_type": "code",
   "execution_count": 18,
   "id": "bc1d2400",
   "metadata": {
    "execution": {
     "iopub.execute_input": "2023-03-23T13:45:52.465953Z",
     "iopub.status.busy": "2023-03-23T13:45:52.465516Z",
     "iopub.status.idle": "2023-03-23T13:45:52.689487Z",
     "shell.execute_reply": "2023-03-23T13:45:52.688363Z"
    },
    "papermill": {
     "duration": 0.24195,
     "end_time": "2023-03-23T13:45:52.691934",
     "exception": false,
     "start_time": "2023-03-23T13:45:52.449984",
     "status": "completed"
    },
    "tags": []
   },
   "outputs": [
    {
     "name": "stdout",
     "output_type": "stream",
     "text": [
      "[0.3, 1.3, 2.3]\n"
     ]
    },
    {
     "data": {
      "image/png": "[encoded data removed]",
      "text/plain": [
       "<Figure size 640x480 with 1 Axes>"
      ]
     },
     "metadata": {},
     "output_type": "display_data"
    }
   ],
   "source": [
    "# libraries\n",
    "import numpy as np\n",
    "import matplotlib.pyplot as plt\n",
    " \n",
    "# width of the bars\n",
    "barWidth = 0.3\n",
    " \n",
    "# Choose the height of the blue bars\n",
    "bars1 = [10, 9, 2]\n",
    " \n",
    "# Choose the height of the cyan bars\n",
    "bars2 = [10.8, 9.5, 4.5]\n",
    " \n",
    "# Choose the height of the error bars (bars1)\n",
    "yer1 = [0.5, 0.4, 0.5]\n",
    " \n",
    "# Choose the height of the error bars (bars2)\n",
    "yer2 = [1, 0.7, 1]\n",
    " \n",
    "# The x position of bars\n",
    "r1 = np.arange(len(bars1))\n",
    "r2 = [x + barWidth for x in r1]\n",
    "\n",
    "print(r2)\n",
    " \n",
    "# Create blue bars\n",
    "plt.bar(r1, bars1, width = barWidth, color = 'blue', edgecolor = 'black', yerr=yer1, capsize=7, label='poacee')\n",
    " \n",
    "# Create cyan bars\n",
    "plt.bar(r2, bars2, width = barWidth, color = 'cyan', edgecolor = 'black', yerr=yer2, capsize=7, label='sorgho')\n",
    " \n",
    "# general layout\n",
    "plt.xticks([r + barWidth for r in range(len(bars1))], ['cond_A', 'cond_B', 'cond_C'])\n",
    "plt.ylabel('height')\n",
    "plt.legend()\n",
    " \n",
    "# Show graphic\n",
    "plt.show()"
   ]
  },
  {
   "cell_type": "markdown",
   "id": "1421a394",
   "metadata": {
    "papermill": {
     "duration": 0.014036,
     "end_time": "2023-03-23T13:45:52.720437",
     "exception": false,
     "start_time": "2023-03-23T13:45:52.706401",
     "status": "completed"
    },
    "tags": []
   },
   "source": [
    "**Barplot with number of observation**\n",
    "\n",
    "The following example shows how to display the number of observation per group on a barplot. bar() function of matplotlib is used to draw barplot with the following arguments:\n",
    "\n",
    "> x : The x coordinates of the bars.\n",
    "\n",
    "> height : The height(s) of the bars.\n",
    "\n",
    "> width : The width(s) of the bars.\n",
    "\n",
    "> color : The colors of the bar faces.\n",
    "\n",
    "> label : The labels of the bars.\n",
    "\n",
    "Note that, legend() function is used to add a legend, xticks() function is used to add labels of bars to the x axis, and text() function is used to add text on the top of each bar.\n",
    "\n"
   ]
  },
  {
   "cell_type": "code",
   "execution_count": 19,
   "id": "4bd97e22",
   "metadata": {
    "execution": {
     "iopub.execute_input": "2023-03-23T13:45:52.751215Z",
     "iopub.status.busy": "2023-03-23T13:45:52.750125Z",
     "iopub.status.idle": "2023-03-23T13:45:52.756485Z",
     "shell.execute_reply": "2023-03-23T13:45:52.755616Z"
    },
    "papermill": {
     "duration": 0.024137,
     "end_time": "2023-03-23T13:45:52.758678",
     "exception": false,
     "start_time": "2023-03-23T13:45:52.734541",
     "status": "completed"
    },
    "tags": []
   },
   "outputs": [],
   "source": [
    "# library\n",
    "import matplotlib.pyplot as plt\n",
    " \n",
    "# Create bars\n",
    "barWidth = 0.9\n",
    "bars1 = [3, 3, 1]\n",
    "bars2 = [4, 2, 3]\n",
    "bars3 = [4, 6, 7, 10, 4, 4]\n",
    "bars4 = bars1 + bars2 + bars3"
   ]
  },
  {
   "cell_type": "code",
   "execution_count": 20,
   "id": "8e6e865e",
   "metadata": {
    "execution": {
     "iopub.execute_input": "2023-03-23T13:45:52.788980Z",
     "iopub.status.busy": "2023-03-23T13:45:52.788270Z",
     "iopub.status.idle": "2023-03-23T13:45:52.793995Z",
     "shell.execute_reply": "2023-03-23T13:45:52.793181Z"
    },
    "papermill": {
     "duration": 0.023473,
     "end_time": "2023-03-23T13:45:52.796257",
     "exception": false,
     "start_time": "2023-03-23T13:45:52.772784",
     "status": "completed"
    },
    "tags": []
   },
   "outputs": [],
   "source": [
    "# The X position of bars\n",
    "r1 = [1,5,9]\n",
    "r2 = [2,6,10]\n",
    "r3 = [3,4,7,8,11,12]\n",
    "r4 = r1 + r2 + r3"
   ]
  },
  {
   "cell_type": "code",
   "execution_count": 21,
   "id": "17609299",
   "metadata": {
    "execution": {
     "iopub.execute_input": "2023-03-23T13:45:52.826983Z",
     "iopub.status.busy": "2023-03-23T13:45:52.826287Z",
     "iopub.status.idle": "2023-03-23T13:45:53.115601Z",
     "shell.execute_reply": "2023-03-23T13:45:53.114464Z"
    },
    "papermill": {
     "duration": 0.307391,
     "end_time": "2023-03-23T13:45:53.117961",
     "exception": false,
     "start_time": "2023-03-23T13:45:52.810570",
     "status": "completed"
    },
    "tags": []
   },
   "outputs": [
    {
     "data": {
      "image/png": "[encoded data removed]",
      "text/plain": [
       "<Figure size 640x480 with 1 Axes>"
      ]
     },
     "metadata": {},
     "output_type": "display_data"
    }
   ],
   "source": [
    "# Create barplot\n",
    "# bar(x, height, width=0.8, bottom=None, *, align='center', data=None, **kwargs)\n",
    "\n",
    "plt.bar(r1, bars1, width = barWidth, color = (0.3,0.1,0.4,0.6), label='Alone')\n",
    "plt.bar(r2, bars2, width = barWidth, color = (0.3,0.5,0.4,0.6), label='With Himself')\n",
    "plt.bar(r3, bars3, width = barWidth, color = (0.3,0.9,0.4,0.6), label='With other genotype')\n",
    "# Note: the barplot could be created easily. See the barplot section for other examples.\n",
    "\n",
    "# Create legend\n",
    "plt.legend()\n",
    " \n",
    "# Text below each barplot with a rotation at 90°\n",
    "plt.xticks([r + barWidth for r in range(len(r4))], ['DD', 'with himself', 'with DC', 'with Silur', 'DC', 'with himself', 'with DD', 'with Silur', 'Silur', 'with himself', 'with DD', 'with DC'], rotation=90)\n",
    " \n",
    "# Create labels\n",
    "label = ['n = 6', 'n = 25', 'n = 13', 'n = 36', 'n = 30', 'n = 11', 'n = 16', 'n = 37', 'n = 14', 'n = 4', 'n = 31', 'n = 34']\n",
    " \n",
    "# Text on the top of each bar\n",
    "for i in range(len(r4)):\n",
    "    plt.text(x = r4[i]-0.5 , y = bars4[i]+0.1, s = label[i], size = 6)\n",
    "\n",
    "# Adjust the margins\n",
    "plt.subplots_adjust(bottom= 0.2, top = 0.98)\n",
    " \n",
    "# Show graphic\n",
    "plt.show()\n"
   ]
  },
  {
   "cell_type": "markdown",
   "id": "8bd90c4b",
   "metadata": {
    "papermill": {
     "duration": 0.014219,
     "end_time": "2023-03-23T13:45:53.147100",
     "exception": false,
     "start_time": "2023-03-23T13:45:53.132881",
     "status": "completed"
    },
    "tags": []
   },
   "source": [
    "**Barplot with Seaborn**\n",
    "\n",
    "Seaborn is definitely a good alternative to Matplotlib to build a barplot. It comes with a barplot() function that will get you started in minutes.\n",
    "\n",
    "As often, note that the Seaborn alternative allows to write less code to build the chart, but is slighlty more limited in term of customization"
   ]
  },
  {
   "cell_type": "markdown",
   "id": "0f2127af",
   "metadata": {
    "papermill": {
     "duration": 0.0143,
     "end_time": "2023-03-23T13:45:53.175668",
     "exception": false,
     "start_time": "2023-03-23T13:45:53.161368",
     "status": "completed"
    },
    "tags": []
   },
   "source": [
    "**Basic Barplot using Seaborn**\n",
    "\n",
    "Let's start with a basic example showing the total bill paid by customers in 4 different days of the week. The barplot() function of the seaborn library is used here. The arguments passed to the function are:\n",
    "\n",
    "> x : the name of the dataframe column used for the X axis.\n",
    "\n",
    "> data : dataframe to use for plotting\n",
    "\n",
    "> estimator : function to estimate within each category\n",
    "\n",
    "> ci : size of confidence intervals (if None, error bars will not be drawn)\n",
    "\n",
    "> color : the color of the bars"
   ]
  },
  {
   "cell_type": "code",
   "execution_count": 22,
   "id": "99d567a2",
   "metadata": {
    "execution": {
     "iopub.execute_input": "2023-03-23T13:45:53.206970Z",
     "iopub.status.busy": "2023-03-23T13:45:53.206185Z",
     "iopub.status.idle": "2023-03-23T13:45:55.541509Z",
     "shell.execute_reply": "2023-03-23T13:45:55.540341Z"
    },
    "papermill": {
     "duration": 2.353671,
     "end_time": "2023-03-23T13:45:55.543912",
     "exception": false,
     "start_time": "2023-03-23T13:45:53.190241",
     "status": "completed"
    },
    "tags": []
   },
   "outputs": [
    {
     "name": "stderr",
     "output_type": "stream",
     "text": [
      "/opt/conda/lib/python3.7/site-packages/ipykernel_launcher.py:21: FutureWarning: \n",
      "\n",
      "The `ci` parameter is deprecated. Use `errorbar=None` for the same effect.\n",
      "\n"
     ]
    },
    {
     "data": {
      "image/png": "[encoded data removed]",
      "text/plain": [
       "<Figure size 1000x700 with 1 Axes>"
      ]
     },
     "metadata": {},
     "output_type": "display_data"
    }
   ],
   "source": [
    "# import libraries\n",
    "import seaborn as sns\n",
    "import matplotlib.pyplot as plt\n",
    "\n",
    "# set plot style: grey grid in the background:\n",
    "sns.set(style=\"darkgrid\")\n",
    "\n",
    "# load dataset\n",
    "tips = sns.load_dataset(\"tips\")\n",
    "\n",
    "# Set the figure size\n",
    "plt.figure(figsize=(10, 7))\n",
    "\n",
    "# plot a bar chart\n",
    "sns.barplot(\n",
    "    x=\"total_bill\", \n",
    "    y=\"day\", \n",
    "    data=tips, \n",
    "    estimator=sum, \n",
    "    ci=None, \n",
    "    color='#69b3a2');"
   ]
  },
  {
   "cell_type": "markdown",
   "id": "4a02526d",
   "metadata": {
    "papermill": {
     "duration": 0.014946,
     "end_time": "2023-03-23T13:45:55.574360",
     "exception": false,
     "start_time": "2023-03-23T13:45:55.559414",
     "status": "completed"
    },
    "tags": []
   },
   "source": [
    "**Vertical version**\n",
    "\n",
    "You just have to swap the x and y parameter to get a vertical barplot instead of a horizontal version:"
   ]
  },
  {
   "cell_type": "code",
   "execution_count": 23,
   "id": "db6c98d0",
   "metadata": {
    "execution": {
     "iopub.execute_input": "2023-03-23T13:45:55.606897Z",
     "iopub.status.busy": "2023-03-23T13:45:55.606487Z",
     "iopub.status.idle": "2023-03-23T13:45:55.905126Z",
     "shell.execute_reply": "2023-03-23T13:45:55.903450Z"
    },
    "papermill": {
     "duration": 0.31835,
     "end_time": "2023-03-23T13:45:55.908089",
     "exception": false,
     "start_time": "2023-03-23T13:45:55.589739",
     "status": "completed"
    },
    "tags": []
   },
   "outputs": [
    {
     "name": "stderr",
     "output_type": "stream",
     "text": [
      "/opt/conda/lib/python3.7/site-packages/ipykernel_launcher.py:11: FutureWarning: \n",
      "\n",
      "The `ci` parameter is deprecated. Use `errorbar=None` for the same effect.\n",
      "\n",
      "  # This is added back by InteractiveShellApp.init_path()\n"
     ]
    },
    {
     "data": {
      "image/png": "[encoded data removed]",
      "text/plain": [
       "<Figure size 1400x1000 with 1 Axes>"
      ]
     },
     "metadata": {},
     "output_type": "display_data"
    }
   ],
   "source": [
    "# Set the figure size\n",
    "plt.figure(figsize=(14, 10))\n",
    "\n",
    "# plot a bar chart\n",
    "sns.barplot(\n",
    "    y=\"total_bill\", \n",
    "    x=\"day\", \n",
    "    data=tips, \n",
    "    estimator=sum, \n",
    "    ci=None, \n",
    "    color='#69b3a2');"
   ]
  },
  {
   "cell_type": "markdown",
   "id": "cf96f024",
   "metadata": {
    "papermill": {
     "duration": 0.015557,
     "end_time": "2023-03-23T13:45:55.940196",
     "exception": false,
     "start_time": "2023-03-23T13:45:55.924639",
     "status": "completed"
    },
    "tags": []
   },
   "source": [
    "**Bar order**\n",
    "\n",
    "It is easy to control the bar order in a seaborn barplot. You can pass the order parameter with a list of explicit order to the function.\n",
    "I will order the days according to their bill amount in the example below:"
   ]
  },
  {
   "cell_type": "code",
   "execution_count": 24,
   "id": "641acc10",
   "metadata": {
    "execution": {
     "iopub.execute_input": "2023-03-23T13:45:55.974172Z",
     "iopub.status.busy": "2023-03-23T13:45:55.973360Z",
     "iopub.status.idle": "2023-03-23T13:45:56.311276Z",
     "shell.execute_reply": "2023-03-23T13:45:56.310393Z"
    },
    "papermill": {
     "duration": 0.35782,
     "end_time": "2023-03-23T13:45:56.313778",
     "exception": false,
     "start_time": "2023-03-23T13:45:55.955958",
     "status": "completed"
    },
    "tags": []
   },
   "outputs": [
    {
     "name": "stderr",
     "output_type": "stream",
     "text": [
      "/opt/conda/lib/python3.7/site-packages/ipykernel_launcher.py:12: FutureWarning: \n",
      "\n",
      "The `ci` parameter is deprecated. Use `errorbar=None` for the same effect.\n",
      "\n",
      "  if sys.path[0] == \"\":\n"
     ]
    },
    {
     "data": {
      "image/png": "[encoded data removed]",
      "text/plain": [
       "<Figure size 1400x1000 with 1 Axes>"
      ]
     },
     "metadata": {},
     "output_type": "display_data"
    }
   ],
   "source": [
    "# Set the figure size\n",
    "plt.figure(figsize=(14, 10))\n",
    "\n",
    "# plot a bar chart with given order of bars [\"Fri\",\"Thur\",\"Sun\",\"Sat\"]\n",
    "sns.barplot(\n",
    "    x=\"total_bill\", \n",
    "    y=\"day\", \n",
    "    data=tips, \n",
    "    estimator=sum, \n",
    "    ci=None, \n",
    "    order=[\"Fri\",\"Thur\",\"Sun\",\"Sat\"], \n",
    "    color='#69b3a2'\n",
    ");"
   ]
  },
  {
   "cell_type": "markdown",
   "id": "a917a1fd",
   "metadata": {
    "papermill": {
     "duration": 0.015799,
     "end_time": "2023-03-23T13:45:56.345723",
     "exception": false,
     "start_time": "2023-03-23T13:45:56.329924",
     "status": "completed"
    },
    "tags": []
   },
   "source": [
    "Another common need is to reorder the barplot by group rank. For instance, you want to have the group with the highest value on top, and the one with the lowest value at the bottom.\n",
    "\n",
    "To do so you have to reorder the dataframe using the sort_values() function as follow:"
   ]
  },
  {
   "cell_type": "code",
   "execution_count": 25,
   "id": "482f835f",
   "metadata": {
    "execution": {
     "iopub.execute_input": "2023-03-23T13:45:56.380800Z",
     "iopub.status.busy": "2023-03-23T13:45:56.380045Z",
     "iopub.status.idle": "2023-03-23T13:45:56.735684Z",
     "shell.execute_reply": "2023-03-23T13:45:56.734478Z"
    },
    "papermill": {
     "duration": 0.376302,
     "end_time": "2023-03-23T13:45:56.738539",
     "exception": false,
     "start_time": "2023-03-23T13:45:56.362237",
     "status": "completed"
    },
    "tags": []
   },
   "outputs": [
    {
     "name": "stderr",
     "output_type": "stream",
     "text": [
      "/opt/conda/lib/python3.7/site-packages/ipykernel_launcher.py:21: FutureWarning: \n",
      "\n",
      "The `ci` parameter is deprecated. Use `errorbar=None` for the same effect.\n",
      "\n"
     ]
    },
    {
     "data": {
      "image/png": "[encoded data removed]",
      "text/plain": [
       "<Figure size 1400x1000 with 1 Axes>"
      ]
     },
     "metadata": {},
     "output_type": "display_data"
    }
   ],
   "source": [
    "# Create a dataframe\n",
    "import pandas as pd\n",
    "df = pd.DataFrame({\n",
    "        'group': ['A', 'B', 'C', 'D', 'E', 'F', 'G'],\n",
    "        'value': [1, 10, 39, 23, 3, 42, 12]\n",
    "})\n",
    "\n",
    "# Set the figure size\n",
    "plt.figure(figsize=(14, 10))\n",
    "\n",
    "# Reorder this data frame\n",
    "df = df.sort_values(['value'], ascending=False).reset_index(drop=True)\n",
    "\n",
    "# Make a barplot\n",
    "sns.barplot(\n",
    "    x=\"value\", \n",
    "    y=\"group\", \n",
    "    data=df, \n",
    "    estimator=sum, \n",
    "    ci=None, \n",
    "    color='#69b3a2'\n",
    ");"
   ]
  },
  {
   "cell_type": "markdown",
   "id": "f8e9603c",
   "metadata": {
    "papermill": {
     "duration": 0.016452,
     "end_time": "2023-03-23T13:45:56.771858",
     "exception": false,
     "start_time": "2023-03-23T13:45:56.755406",
     "status": "completed"
    },
    "tags": []
   },
   "source": [
    "**Barplot with Error Bars using Seaborn**\n",
    "\n",
    "If you are using aggregated values in a barplot, error bars will give you a general idea of how precise a measurement is. This example shows how to add error bars into your chart.\n",
    "\n",
    "By default, the barplot() function draws error bars in the plot with 95% confidence interval. You can remove error bars by passing ci=None argument. ci parameter controls the size of confidence intervals to draw around estimated values (Note that if you want to draw the standard deviation of the observations, you should pass ci=\"sd\").\n",
    "\n",
    "Additionally, you can change the width of the caps on error bars with the capsize parameter."
   ]
  },
  {
   "cell_type": "code",
   "execution_count": 26,
   "id": "23c3384a",
   "metadata": {
    "execution": {
     "iopub.execute_input": "2023-03-23T13:45:56.807473Z",
     "iopub.status.busy": "2023-03-23T13:45:56.806732Z",
     "iopub.status.idle": "2023-03-23T13:45:57.185203Z",
     "shell.execute_reply": "2023-03-23T13:45:57.182775Z"
    },
    "papermill": {
     "duration": 0.399936,
     "end_time": "2023-03-23T13:45:57.188247",
     "exception": false,
     "start_time": "2023-03-23T13:45:56.788311",
     "status": "completed"
    },
    "tags": []
   },
   "outputs": [
    {
     "name": "stderr",
     "output_type": "stream",
     "text": [
      "/opt/conda/lib/python3.7/site-packages/ipykernel_launcher.py:13: FutureWarning: \n",
      "\n",
      "The `ci` parameter is deprecated. Use `errorbar=('ci', 85)` for the same effect.\n",
      "\n",
      "  del sys.path[0]\n"
     ]
    },
    {
     "data": {
      "image/png": "[encoded data removed]",
      "text/plain": [
       "<Figure size 1400x800 with 1 Axes>"
      ]
     },
     "metadata": {},
     "output_type": "display_data"
    }
   ],
   "source": [
    "# import libraries\n",
    "import seaborn as sns\n",
    "import numpy as np\n",
    "import matplotlib.pyplot as plt\n",
    "\n",
    "# load dataset\n",
    "tips = sns.load_dataset(\"tips\")\n",
    "\n",
    "# Set the figure size\n",
    "plt.figure(figsize=(14, 8))\n",
    "\n",
    "# plot a bar chart\n",
    "ax = sns.barplot(x=\"day\", y=\"total_bill\", data=tips, estimator=np.mean, ci=85, capsize=.2, color='lightblue')"
   ]
  }
 ],
 "metadata": {
  "kernelspec": {
   "display_name": "Python 3",
   "language": "python",
   "name": "python3"
  },
  "language_info": {
   "codemirror_mode": {
    "name": "ipython",
    "version": 3
   },
   "file_extension": ".py",
   "mimetype": "text/x-python",
   "name": "python",
   "nbconvert_exporter": "python",
   "pygments_lexer": "ipython3",
   "version": "3.7.12"
  },
  "papermill": {
   "default_parameters": {},
   "duration": 18.511128,
   "end_time": "2023-03-23T13:45:57.927396",
   "environment_variables": {},
   "exception": null,
   "input_path": "__notebook__.ipynb",
   "output_path": "__notebook__.ipynb",
   "parameters": {},
   "start_time": "2023-03-23T13:45:39.416268",
   "version": "2.4.0"
  }
 },
 "nbformat": 4,
 "nbformat_minor": 5
}
